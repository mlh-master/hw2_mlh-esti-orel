{
 "cells": [
  {
   "cell_type": "markdown",
   "metadata": {},
   "source": [
    "# HW2"
   ]
  },
  {
   "cell_type": "markdown",
   "metadata": {},
   "source": [
    "## ML Theoretical questions"
   ]
  },
  {
   "cell_type": "markdown",
   "metadata": {},
   "source": [
    "#### Question 1:\n",
    "To evaluate how well our model performs at T1D classification, we need to have evaluation\n",
    "metrics that measures of its performances/accuracy. Which evaluation metric is more\n",
    "important to us: model accuracy or model performance? Give a simple example that\n",
    "illustrates your claim."
   ]
  },
  {
   "cell_type": "markdown",
   "metadata": {},
   "source": [
    "Accuracy is calculated as [(TP+TN)/(TP+TN+FP+FN)], and is also a part of the performance's statistics as well as- F1 score, sensitivity, specificity, TP, FP, etc...\n",
    "Similarly to the example presented in lecture 8, Integrating a large population samples can be can be misleading considering the accuracy only. If we take a 900 patients population-100 of them have AF and 800 are non-AF, we can get very imbalanced data so there will be poor learning even though the accuracy is 89%. It is common in medicine. \n",
    "To conclude, stats other than Accuracy provide better insights when classes are skewed.\n"
   ]
  },
  {
   "cell_type": "markdown",
   "metadata": {},
   "source": [
    "#### Question 2:\n",
    "T1D is often associated with other comorbidities such as a heart attack. You are asked to\n",
    "design a ML algorithm to predict which patients are going to suffer a heart attack. Relevant\n",
    "patient features for the algorithm may include blood pressure (BP), body-mass index (BMI),\n",
    "age (A), level of physical activity (P), and income (I). You should choose between two\n",
    "classifiers: the first uses only BP and BMI features and the other one uses all of the features\n",
    "available to you. Explain the pros and cons of each choice."
   ]
  },
  {
   "cell_type": "markdown",
   "metadata": {},
   "source": [
    "**BP and BMI features:**\n",
    "\n",
    "Pros\n",
    "•Lower complexity when taking less features into consideration- faster calculation time and less samples to analyze. \n",
    "•These are two important features that connect both T1D and heart attacks so it may give a simple model with lower chances to overfitting\n",
    "\n",
    "Cons\n",
    "•There is a tradeoff between overfitting and bias, so using this kind of model may not give us enough data which would result with bias.\n",
    "•There are many important features to take into consideration and these two may not be the most relevant in all the patient.\n",
    "•May cause underfitting\n",
    "\n",
    "**All of the features:**\n",
    "\n",
    "Pros\n",
    "•Taking more important and relevant features into consideration\n",
    "•Lower chances to get bias\n",
    "•Still a relatively low number of features that provides us bigger information\n",
    "Cons\n",
    "•larger complexity and greater calculation time\n",
    "•bigger chances for overfitting \n",
    "•more samples are needed for the analysis and we may take less relevant parameters in count\n",
    "\n",
    "we would prefer to take all of the features because taking the relatively small number of features into consideration, the differences in the bias are more significant than the chances getting overfitting in the second model. In that way, we would get more accurate model that would increase the chance to predict which patients are going to experience a heart attack."
   ]
  },
  {
   "cell_type": "markdown",
   "metadata": {},
   "source": [
    "#### Question 3:\n",
    "A histologist wants to use machine learning to tell the difference between pancreas biopsies\n",
    "that show signs of T1D and those that do not. She has already come up with dozens of\n",
    "measurements to take, such as color, size, uniformity and cell-count, but she isn’t sure which\n",
    "model to use. The biopsies are really similar, and it is difficult to distinguish them from the\n",
    "human eye, or by just looking at the features. Which of the following is better: logistic\n",
    "regression, linear SVM or nonlinear SVM? Explain your answer."
   ]
  },
  {
   "cell_type": "markdown",
   "metadata": {},
   "source": [
    "Depending on the number of training sets (data)/features that you have, we can choose to use either logistic regression or support vector machine.\n",
    "For a small number of features (1–1000) and intermediate number of training examples (10–10,000) logistic regression and linear SVM would give us the similar results. \n",
    "The biopsies are really similar, and it is difficult to distinguish them from the human eye, or just by looking at the features. Thus, we can infer that the data is not linearly separable, but it may be linearly separable in higher dimensions. Therefore, in this case we will prefer to use a nonlinear SVM over logistic regression or a linear SVM.  However, we should be careful because it my cause overfitting. To sum up, there is no one ideal model to use but in this particular case when we take into consideration data separation and the features and examples size, we would prefer a nonlinear SVM over the other options mentioned. \n"
   ]
  },
  {
   "cell_type": "markdown",
   "metadata": {},
   "source": [
    "#### Question 4:\n",
    "What are the differences between LR and linear SVM and what is the difference in the\n",
    "effect/concept of their hyper-parameters tuning?"
   ]
  },
  {
   "cell_type": "markdown",
   "metadata": {},
   "source": [
    "Both logistic regression and linear SVM are linear classifications models.  \n",
    "Logistic regression is a great model in a low number of dimensions and when the predictors don't suffice to give more than a probabilistic estimate of the response. SVMs do better when there's a higher number of dimensions, and especially for problems where the predictors certainly (or near-certainly) determine the responses. Additionally, SVM is a more geometric model, only considering points near the margin (support vectors) and trying to maximize them. Logistic regression considers all the points in the data set and focuses on maximizing probabilities. moreover, SVM is more complex than LR and allows us to make inclusion in addition to data separation. Also, SVM is more sensitive to overfitting due to its complexity. On the other hand, logistic regression is more sensitive to underfitting. "
   ]
  },
  {
   "cell_type": "markdown",
   "metadata": {},
   "source": [
    "**Logistic regression hyperparameters:**"
   ]
  },
  {
   "cell_type": "markdown",
   "metadata": {},
   "source": [
    "**λ-**\n",
    "\n",
    "A hyper parameter that sets the penalization. The higher it is, the model will be pushed towards lower weights in order to minimize the cost function and there will be a larger emphasis on the regularization.\n",
    "Choosing the learning rate is challenging, as a value too small may result in a long training process that may not converge, whereas a value too large may result in learning a sub-optimal set of weights too fast or an unstable training process. "
   ]
  },
  {
   "cell_type": "markdown",
   "metadata": {},
   "source": [
    "**The order of the polynomial:**\n",
    "Regularization can also be performed in a regression task, where it is supposed to\n",
    "achieve the optimal weights values of the chosen order of the polynomial model for instance.\n"
   ]
  },
  {
   "cell_type": "markdown",
   "metadata": {},
   "source": [
    "**Penalty:**\n",
    "\n",
    "\n",
    "•L1(Lasso) - limits the size of the coefficients. Some coefficients can become zero and become eliminated\n",
    "\n",
    "•L2(Ridge)- regularization adds a penalty that is equal to the square of the magnitude of coefficients.\n",
    "\n",
    "•Elastic nets combine L1 & L2 methods."
   ]
  },
  {
   "cell_type": "markdown",
   "metadata": {},
   "source": [
    "**Linear SVM hyperparameters**"
   ]
  },
  {
   "cell_type": "markdown",
   "metadata": {},
   "source": [
    "**C-**\n",
    "\n",
    "C is a hypermeter in SVM to control error. The C parameter tells the SVM optimization how much you want to avoid misclassifying each training example.\n",
    "\n",
    "C=1\\λ:\n",
    "    \n",
    "For large values of C, the optimization will choose a smaller-margin hyperplane if that hyperplane does a better job of getting all the training points classified correctly (hard margin) \n",
    "For small values of C, the optimization will cause the optimizer to look for a larger-margin separating hyperplane, even if that hyperplane misclassifies more points (soft margins)"
   ]
  },
  {
   "cell_type": "markdown",
   "metadata": {},
   "source": [
    "**γ** \n",
    "\n",
    "Gamma is used when we use the Gaussian RBF kernel. It is not relevant for the linear SVM. \n",
    "We would only need to use the C hyper parameter.\n"
   ]
  },
  {
   "cell_type": "markdown",
   "metadata": {},
   "source": [
    "# Coding Assignment"
   ]
  },
  {
   "cell_type": "code",
   "execution_count": 1,
   "metadata": {},
   "outputs": [],
   "source": [
    "import pandas as pd\n",
    "import pickle\n",
    "import numpy as np\n",
    "import matplotlib.pyplot as plt\n",
    "import seaborn as sns\n",
    "from sklearn.model_selection import train_test_split\n",
    "from sklearn.linear_model import LogisticRegression\n",
    "from sklearn.metrics import roc_auc_score\n",
    "from sklearn.preprocessing import MinMaxScaler\n",
    "from sklearn import metrics\n",
    "from sklearn import linear_model\n",
    "from sklearn.preprocessing import OneHotEncoder\n",
    "from sklearn.compose import ColumnTransformer\n",
    "import scipy.stats as stats\n",
    "from sklearn.ensemble import RandomForestClassifier as rfc\n",
    "import random\n",
    "from pathlib import Path\n",
    "import sys\n",
    "import matplotlib as mpl\n",
    "from sklearn.model_selection import StratifiedKFold\n",
    "from sklearn.preprocessing import StandardScaler\n",
    "from sklearn.metrics import log_loss\n",
    "from sklearn.pipeline import Pipeline\n",
    "from sklearn.metrics import confusion_matrix, plot_confusion_matrix, roc_auc_score\n",
    "from sklearn.metrics import log_loss\n",
    "from sklearn.metrics import f1_score\n",
    "from sklearn.metrics import accuracy_score\n",
    "from sklearn.svm import SVC\n",
    "from sklearn.model_selection import GridSearchCV\n",
    "from sklearn.metrics import hinge_loss\n",
    "from sklearn.ensemble import RandomForestClassifier as rfc\n",
    "from sklearn.decomposition import PCA\n",
    "from sklearn.preprocessing import OneHotEncoder\n",
    "from sklearn.preprocessing import LabelEncoder\n"
   ]
  },
  {
   "cell_type": "markdown",
   "metadata": {},
   "source": [
    "## Question 1"
   ]
  },
  {
   "cell_type": "markdown",
   "metadata": {},
   "source": [
    "importing CSV to DataFrame"
   ]
  },
  {
   "cell_type": "code",
   "execution_count": 2,
   "metadata": {},
   "outputs": [],
   "source": [
    "file = Path.cwd().joinpath('HW2_data.csv')\n",
    "Diab = pd.read_csv(file)"
   ]
  },
  {
   "cell_type": "markdown",
   "metadata": {},
   "source": [
    "Of the 565 patients, we want to remove patients with at least 3 NaN.\n",
    "Patients with 2 nan values or less: we will have the NaNs replaced with random values from a feature values (column).\n",
    "Since this is a small number of patients from the group examined, if a bias is created it is very small, and yet the given data is large enough.\n"
   ]
  },
  {
   "cell_type": "code",
   "execution_count": 3,
   "metadata": {},
   "outputs": [],
   "source": [
    "def nan2value_random(df):    \n",
    "    #input: DataFrame\n",
    "    #output: DataFrame without nans\n",
    "    df = df.dropna(axis=0, thresh=15) #Of the 565 patients, we want to remove patients with at least 3 NaN.\n",
    "    df_nan = df.copy()\n",
    "    # Patients with 2 nan values or less: we will have the NaNs replaced with random values from a feature values (column).\n",
    "    # Since this is a small number of patients from the group examined, if a bias is created it is very small, and yet the given data is large enough.\n",
    "    for col in df_nan:\n",
    "        bank_for_col = df_nan[col]\n",
    "        bank_for_col = bank_for_col.dropna()\n",
    "        bank_for_col = np.random.choice(bank_for_col, size=len(df_nan[col]))\n",
    "        df_nan[col] = df_nan[col].fillna(pd.Series(bank_for_col))\n",
    "    return df_nan\n",
    "clean_Diab = nan2value_random(Diab)"
   ]
  },
  {
   "cell_type": "markdown",
   "metadata": {},
   "source": [
    "## Question 2"
   ]
  },
  {
   "cell_type": "markdown",
   "metadata": {},
   "source": [
    "### Perform a test-train split of 20% test."
   ]
  },
  {
   "cell_type": "code",
   "execution_count": 4,
   "metadata": {},
   "outputs": [],
   "source": [
    "X = clean_Diab[['Age','Gender','Increased Urination','Increased Thirst','Sudden Weight Loss','Weakness','Increased Hunger','Genital Thrush','Visual Blurring','Itching','Irritability','Delayed Healing','Partial Paresis','Muscle Stiffness','Hair Loss','Obesity','Family History']]\n",
    "y= clean_Diab[['Diagnosis']]\n",
    "X_train, x_test, Y_train, y_test = train_test_split(X, y, test_size = 0.20, random_state = 10, stratify=y)\n"
   ]
  },
  {
   "cell_type": "markdown",
   "metadata": {},
   "source": [
    "## Question 3"
   ]
  },
  {
   "cell_type": "markdown",
   "metadata": {},
   "source": [
    "## 3a: "
   ]
  },
  {
   "cell_type": "code",
   "execution_count": 5,
   "metadata": {},
   "outputs": [
    {
     "data": {
      "text/html": [
       "<style  type=\"text/css\" >\n",
       "</style><table id=\"T_5f6bc03a_4ec8_11eb_a59f_7cb0c27cfb77\" ><thead>    <tr>        <th class=\"blank level0\" ></th>        <th class=\"col_heading level0 col0\" >0</th>        <th class=\"col_heading level0 col1\" >1</th>        <th class=\"col_heading level0 col2\" >2</th>    </tr></thead><tbody>\n",
       "                <tr>\n",
       "                        <th id=\"T_5f6bc03a_4ec8_11eb_a59f_7cb0c27cfb77level0_row0\" class=\"row_heading level0 row0\" >Positive Feature</th>\n",
       "                        <td id=\"T_5f6bc03a_4ec8_11eb_a59f_7cb0c27cfb77row0_col0\" class=\"data row0 col0\" >%Train</td>\n",
       "                        <td id=\"T_5f6bc03a_4ec8_11eb_a59f_7cb0c27cfb77row0_col1\" class=\"data row0 col1\" >%Test</td>\n",
       "                        <td id=\"T_5f6bc03a_4ec8_11eb_a59f_7cb0c27cfb77row0_col2\" class=\"data row0 col2\" >%Delta</td>\n",
       "            </tr>\n",
       "            <tr>\n",
       "                        <th id=\"T_5f6bc03a_4ec8_11eb_a59f_7cb0c27cfb77level0_row1\" class=\"row_heading level0 row1\" >Gender</th>\n",
       "                        <td id=\"T_5f6bc03a_4ec8_11eb_a59f_7cb0c27cfb77row1_col0\" class=\"data row1 col0\" >37.416481</td>\n",
       "                        <td id=\"T_5f6bc03a_4ec8_11eb_a59f_7cb0c27cfb77row1_col1\" class=\"data row1 col1\" >31.858407</td>\n",
       "                        <td id=\"T_5f6bc03a_4ec8_11eb_a59f_7cb0c27cfb77row1_col2\" class=\"data row1 col2\" >5.558074</td>\n",
       "            </tr>\n",
       "            <tr>\n",
       "                        <th id=\"T_5f6bc03a_4ec8_11eb_a59f_7cb0c27cfb77level0_row2\" class=\"row_heading level0 row2\" >Increased Urination</th>\n",
       "                        <td id=\"T_5f6bc03a_4ec8_11eb_a59f_7cb0c27cfb77row2_col0\" class=\"data row2 col0\" >48.775056</td>\n",
       "                        <td id=\"T_5f6bc03a_4ec8_11eb_a59f_7cb0c27cfb77row2_col1\" class=\"data row2 col1\" >47.787611</td>\n",
       "                        <td id=\"T_5f6bc03a_4ec8_11eb_a59f_7cb0c27cfb77row2_col2\" class=\"data row2 col2\" >0.987445</td>\n",
       "            </tr>\n",
       "            <tr>\n",
       "                        <th id=\"T_5f6bc03a_4ec8_11eb_a59f_7cb0c27cfb77level0_row3\" class=\"row_heading level0 row3\" >Increased Thirst</th>\n",
       "                        <td id=\"T_5f6bc03a_4ec8_11eb_a59f_7cb0c27cfb77row3_col0\" class=\"data row3 col0\" >44.988864</td>\n",
       "                        <td id=\"T_5f6bc03a_4ec8_11eb_a59f_7cb0c27cfb77row3_col1\" class=\"data row3 col1\" >44.247788</td>\n",
       "                        <td id=\"T_5f6bc03a_4ec8_11eb_a59f_7cb0c27cfb77row3_col2\" class=\"data row3 col2\" >0.741077</td>\n",
       "            </tr>\n",
       "            <tr>\n",
       "                        <th id=\"T_5f6bc03a_4ec8_11eb_a59f_7cb0c27cfb77level0_row4\" class=\"row_heading level0 row4\" >Sudden Weight Loss</th>\n",
       "                        <td id=\"T_5f6bc03a_4ec8_11eb_a59f_7cb0c27cfb77row4_col0\" class=\"data row4 col0\" >40.089087</td>\n",
       "                        <td id=\"T_5f6bc03a_4ec8_11eb_a59f_7cb0c27cfb77row4_col1\" class=\"data row4 col1\" >43.362832</td>\n",
       "                        <td id=\"T_5f6bc03a_4ec8_11eb_a59f_7cb0c27cfb77row4_col2\" class=\"data row4 col2\" >3.273745</td>\n",
       "            </tr>\n",
       "            <tr>\n",
       "                        <th id=\"T_5f6bc03a_4ec8_11eb_a59f_7cb0c27cfb77level0_row5\" class=\"row_heading level0 row5\" >Weakness</th>\n",
       "                        <td id=\"T_5f6bc03a_4ec8_11eb_a59f_7cb0c27cfb77row5_col0\" class=\"data row5 col0\" >57.015590</td>\n",
       "                        <td id=\"T_5f6bc03a_4ec8_11eb_a59f_7cb0c27cfb77row5_col1\" class=\"data row5 col1\" >59.292035</td>\n",
       "                        <td id=\"T_5f6bc03a_4ec8_11eb_a59f_7cb0c27cfb77row5_col2\" class=\"data row5 col2\" >2.276445</td>\n",
       "            </tr>\n",
       "            <tr>\n",
       "                        <th id=\"T_5f6bc03a_4ec8_11eb_a59f_7cb0c27cfb77level0_row6\" class=\"row_heading level0 row6\" >Increased Hunger</th>\n",
       "                        <td id=\"T_5f6bc03a_4ec8_11eb_a59f_7cb0c27cfb77row6_col0\" class=\"data row6 col0\" >44.766147</td>\n",
       "                        <td id=\"T_5f6bc03a_4ec8_11eb_a59f_7cb0c27cfb77row6_col1\" class=\"data row6 col1\" >43.362832</td>\n",
       "                        <td id=\"T_5f6bc03a_4ec8_11eb_a59f_7cb0c27cfb77row6_col2\" class=\"data row6 col2\" >1.403315</td>\n",
       "            </tr>\n",
       "            <tr>\n",
       "                        <th id=\"T_5f6bc03a_4ec8_11eb_a59f_7cb0c27cfb77level0_row7\" class=\"row_heading level0 row7\" >Genital Thrush</th>\n",
       "                        <td id=\"T_5f6bc03a_4ec8_11eb_a59f_7cb0c27cfb77row7_col0\" class=\"data row7 col0\" >19.153675</td>\n",
       "                        <td id=\"T_5f6bc03a_4ec8_11eb_a59f_7cb0c27cfb77row7_col1\" class=\"data row7 col1\" >31.858407</td>\n",
       "                        <td id=\"T_5f6bc03a_4ec8_11eb_a59f_7cb0c27cfb77row7_col2\" class=\"data row7 col2\" >12.704732</td>\n",
       "            </tr>\n",
       "            <tr>\n",
       "                        <th id=\"T_5f6bc03a_4ec8_11eb_a59f_7cb0c27cfb77level0_row8\" class=\"row_heading level0 row8\" >Visual Blurring</th>\n",
       "                        <td id=\"T_5f6bc03a_4ec8_11eb_a59f_7cb0c27cfb77row8_col0\" class=\"data row8 col0\" >45.211581</td>\n",
       "                        <td id=\"T_5f6bc03a_4ec8_11eb_a59f_7cb0c27cfb77row8_col1\" class=\"data row8 col1\" >43.362832</td>\n",
       "                        <td id=\"T_5f6bc03a_4ec8_11eb_a59f_7cb0c27cfb77row8_col2\" class=\"data row8 col2\" >1.848749</td>\n",
       "            </tr>\n",
       "            <tr>\n",
       "                        <th id=\"T_5f6bc03a_4ec8_11eb_a59f_7cb0c27cfb77level0_row9\" class=\"row_heading level0 row9\" >Itching</th>\n",
       "                        <td id=\"T_5f6bc03a_4ec8_11eb_a59f_7cb0c27cfb77row9_col0\" class=\"data row9 col0\" >48.552339</td>\n",
       "                        <td id=\"T_5f6bc03a_4ec8_11eb_a59f_7cb0c27cfb77row9_col1\" class=\"data row9 col1\" >49.557522</td>\n",
       "                        <td id=\"T_5f6bc03a_4ec8_11eb_a59f_7cb0c27cfb77row9_col2\" class=\"data row9 col2\" >1.005184</td>\n",
       "            </tr>\n",
       "            <tr>\n",
       "                        <th id=\"T_5f6bc03a_4ec8_11eb_a59f_7cb0c27cfb77level0_row10\" class=\"row_heading level0 row10\" >Irritability</th>\n",
       "                        <td id=\"T_5f6bc03a_4ec8_11eb_a59f_7cb0c27cfb77row10_col0\" class=\"data row10 col0\" >23.608018</td>\n",
       "                        <td id=\"T_5f6bc03a_4ec8_11eb_a59f_7cb0c27cfb77row10_col1\" class=\"data row10 col1\" >23.893805</td>\n",
       "                        <td id=\"T_5f6bc03a_4ec8_11eb_a59f_7cb0c27cfb77row10_col2\" class=\"data row10 col2\" >0.285787</td>\n",
       "            </tr>\n",
       "            <tr>\n",
       "                        <th id=\"T_5f6bc03a_4ec8_11eb_a59f_7cb0c27cfb77level0_row11\" class=\"row_heading level0 row11\" >Delayed Healing</th>\n",
       "                        <td id=\"T_5f6bc03a_4ec8_11eb_a59f_7cb0c27cfb77row11_col0\" class=\"data row11 col0\" >46.770601</td>\n",
       "                        <td id=\"T_5f6bc03a_4ec8_11eb_a59f_7cb0c27cfb77row11_col1\" class=\"data row11 col1\" >45.132743</td>\n",
       "                        <td id=\"T_5f6bc03a_4ec8_11eb_a59f_7cb0c27cfb77row11_col2\" class=\"data row11 col2\" >1.637858</td>\n",
       "            </tr>\n",
       "            <tr>\n",
       "                        <th id=\"T_5f6bc03a_4ec8_11eb_a59f_7cb0c27cfb77level0_row12\" class=\"row_heading level0 row12\" >Partial Paresis</th>\n",
       "                        <td id=\"T_5f6bc03a_4ec8_11eb_a59f_7cb0c27cfb77row12_col0\" class=\"data row12 col0\" >43.652561</td>\n",
       "                        <td id=\"T_5f6bc03a_4ec8_11eb_a59f_7cb0c27cfb77row12_col1\" class=\"data row12 col1\" >39.823009</td>\n",
       "                        <td id=\"T_5f6bc03a_4ec8_11eb_a59f_7cb0c27cfb77row12_col2\" class=\"data row12 col2\" >3.829552</td>\n",
       "            </tr>\n",
       "            <tr>\n",
       "                        <th id=\"T_5f6bc03a_4ec8_11eb_a59f_7cb0c27cfb77level0_row13\" class=\"row_heading level0 row13\" >Muscle Stiffness</th>\n",
       "                        <td id=\"T_5f6bc03a_4ec8_11eb_a59f_7cb0c27cfb77row13_col0\" class=\"data row13 col0\" >37.193764</td>\n",
       "                        <td id=\"T_5f6bc03a_4ec8_11eb_a59f_7cb0c27cfb77row13_col1\" class=\"data row13 col1\" >36.283186</td>\n",
       "                        <td id=\"T_5f6bc03a_4ec8_11eb_a59f_7cb0c27cfb77row13_col2\" class=\"data row13 col2\" >0.910578</td>\n",
       "            </tr>\n",
       "            <tr>\n",
       "                        <th id=\"T_5f6bc03a_4ec8_11eb_a59f_7cb0c27cfb77level0_row14\" class=\"row_heading level0 row14\" >Hair Loss</th>\n",
       "                        <td id=\"T_5f6bc03a_4ec8_11eb_a59f_7cb0c27cfb77row14_col0\" class=\"data row14 col0\" >35.634744</td>\n",
       "                        <td id=\"T_5f6bc03a_4ec8_11eb_a59f_7cb0c27cfb77row14_col1\" class=\"data row14 col1\" >36.283186</td>\n",
       "                        <td id=\"T_5f6bc03a_4ec8_11eb_a59f_7cb0c27cfb77row14_col2\" class=\"data row14 col2\" >0.648442</td>\n",
       "            </tr>\n",
       "            <tr>\n",
       "                        <th id=\"T_5f6bc03a_4ec8_11eb_a59f_7cb0c27cfb77level0_row15\" class=\"row_heading level0 row15\" >Obesity</th>\n",
       "                        <td id=\"T_5f6bc03a_4ec8_11eb_a59f_7cb0c27cfb77row15_col0\" class=\"data row15 col0\" >17.594655</td>\n",
       "                        <td id=\"T_5f6bc03a_4ec8_11eb_a59f_7cb0c27cfb77row15_col1\" class=\"data row15 col1\" >14.159292</td>\n",
       "                        <td id=\"T_5f6bc03a_4ec8_11eb_a59f_7cb0c27cfb77row15_col2\" class=\"data row15 col2\" >3.435363</td>\n",
       "            </tr>\n",
       "            <tr>\n",
       "                        <th id=\"T_5f6bc03a_4ec8_11eb_a59f_7cb0c27cfb77level0_row16\" class=\"row_heading level0 row16\" >Diagnosis</th>\n",
       "                        <td id=\"T_5f6bc03a_4ec8_11eb_a59f_7cb0c27cfb77row16_col0\" class=\"data row16 col0\" >48.997773</td>\n",
       "                        <td id=\"T_5f6bc03a_4ec8_11eb_a59f_7cb0c27cfb77row16_col1\" class=\"data row16 col1\" >55.752212</td>\n",
       "                        <td id=\"T_5f6bc03a_4ec8_11eb_a59f_7cb0c27cfb77row16_col2\" class=\"data row16 col2\" >6.754440</td>\n",
       "            </tr>\n",
       "    </tbody></table>"
      ],
      "text/plain": [
       "<pandas.io.formats.style.Styler at 0x1ecd52af6c8>"
      ]
     },
     "execution_count": 5,
     "metadata": {},
     "output_type": "execute_result"
    }
   ],
   "source": [
    "##create binary train, test DataFrames (except for age feature):\n",
    "X_train_binary = X_train.replace(['Yes','Female','Positive'],value = 1)\n",
    "X_train_binary = X_train_binary.replace(['No','Male','Negative'],value = 0)\n",
    "x_test_binary = x_test.replace(['Yes','Female','Positive'],value = 1)\n",
    "x_test_binary = x_test_binary.replace(['No','Male','Negative'],value = 0)\n",
    "#create a dictionary with features and values as %train, %test, %delta\n",
    "list_train = [None]*16\n",
    "list_test = [None]*16\n",
    "delta = [None]*16\n",
    "features_dictionary={}\n",
    "features_dictionary['Positive Feature']=['%Train', '%Test', '%Delta']\n",
    "for i in range(0,16):\n",
    "    list_train[i] = X_train_binary.iloc[:,i+1].sum()*(100/len(X_train_binary))\n",
    "    list_test[i] = x_test_binary.iloc[:,i+1].sum()*(100/len(x_test_binary))\n",
    "    delta[i] = abs(list_train[i]-list_test[i])\n",
    "    features_dictionary[clean_Diab.columns[i+1]]= [list_train[i], list_test[i], delta[i]]\n",
    "\n",
    "df_features_dictionary = pd.DataFrame.from_dict(features_dictionary).T\n",
    "df_features_dictionary.style"
   ]
  },
  {
   "cell_type": "markdown",
   "metadata": {},
   "source": [
    "## i. What issues could an imbalance of features between train and test cause?"
   ]
  },
  {
   "cell_type": "markdown",
   "metadata": {},
   "source": [
    "Using balanced training data  results in the highest balanced accuracy (the average of True Positive Rate and True Negative Rate), correlation coefficient, and area under ROC curves. Therefore, using imbalanced training may lower the accuracy and provide us calculations that do not reflect the reality."
   ]
  },
  {
   "cell_type": "markdown",
   "metadata": {},
   "source": [
    "## ii. How could you solve the issue?"
   ]
  },
  {
   "cell_type": "markdown",
   "metadata": {},
   "source": [
    "We will use stratification to make sure that the ratio of the labels is preserved in both training and testing sets. Additionaly, collecting more data can also help with balancing."
   ]
  },
  {
   "cell_type": "markdown",
   "metadata": {},
   "source": [
    "## 3b:"
   ]
  },
  {
   "cell_type": "code",
   "execution_count": 6,
   "metadata": {},
   "outputs": [
    {
     "data": {
      "image/png": "[encoded data removed]",
      "text/plain": [
       "<Figure size 432x288 with 1 Axes>"
      ]
     },
     "metadata": {
      "needs_background": "light"
     },
     "output_type": "display_data"
    },
    {
     "data": {
      "image/png": "[encoded data removed]",
      "text/plain": [
       "<Figure size 432x288 with 1 Axes>"
      ]
     },
     "metadata": {
      "needs_background": "light"
     },
     "output_type": "display_data"
    },
    {
     "data": {
      "image/png": "[encoded data removed]",
      "text/plain": [
       "<Figure size 432x288 with 1 Axes>"
      ]
     },
     "metadata": {
      "needs_background": "light"
     },
     "output_type": "display_data"
    },
    {
     "data": {
      "image/png": "[encoded data removed]",
      "text/plain": [
       "<Figure size 432x288 with 1 Axes>"
      ]
     },
     "metadata": {
      "needs_background": "light"
     },
     "output_type": "display_data"
    },
    {
     "data": {
      "image/png": "[encoded data removed]",
      "text/plain": [
       "<Figure size 432x288 with 1 Axes>"
      ]
     },
     "metadata": {
      "needs_background": "light"
     },
     "output_type": "display_data"
    },
    {
     "data": {
      "image/png": "[encoded data removed]",
      "text/plain": [
       "<Figure size 432x288 with 1 Axes>"
      ]
     },
     "metadata": {
      "needs_background": "light"
     },
     "output_type": "display_data"
    },
    {
     "data": {
      "image/png": "[encoded data removed]",
      "text/plain": [
       "<Figure size 432x288 with 1 Axes>"
      ]
     },
     "metadata": {
      "needs_background": "light"
     },
     "output_type": "display_data"
    },
    {
     "data": {
      "image/png": "[encoded data removed]",
      "text/plain": [
       "<Figure size 432x288 with 1 Axes>"
      ]
     },
     "metadata": {
      "needs_background": "light"
     },
     "output_type": "display_data"
    },
    {
     "data": {
      "image/png": "[encoded data removed]",
      "text/plain": [
       "<Figure size 432x288 with 1 Axes>"
      ]
     },
     "metadata": {
      "needs_background": "light"
     },
     "output_type": "display_data"
    },
    {
     "data": {
      "image/png": "[encoded data removed]",
      "text/plain": [
       "<Figure size 432x288 with 1 Axes>"
      ]
     },
     "metadata": {
      "needs_background": "light"
     },
     "output_type": "display_data"
    },
    {
     "data": {
      "image/png": "[encoded data removed]",
      "text/plain": [
       "<Figure size 432x288 with 1 Axes>"
      ]
     },
     "metadata": {
      "needs_background": "light"
     },
     "output_type": "display_data"
    },
    {
     "data": {
      "image/png": "[encoded data removed]",
      "text/plain": [
       "<Figure size 432x288 with 1 Axes>"
      ]
     },
     "metadata": {
      "needs_background": "light"
     },
     "output_type": "display_data"
    },
    {
     "data": {
      "image/png": "[encoded data removed]",
      "text/plain": [
       "<Figure size 432x288 with 1 Axes>"
      ]
     },
     "metadata": {
      "needs_background": "light"
     },
     "output_type": "display_data"
    },
    {
     "data": {
      "image/png": "[encoded data removed]",
      "text/plain": [
       "<Figure size 432x288 with 1 Axes>"
      ]
     },
     "metadata": {
      "needs_background": "light"
     },
     "output_type": "display_data"
    },
    {
     "data": {
      "image/png": "[encoded data removed]",
      "text/plain": [
       "<Figure size 432x288 with 1 Axes>"
      ]
     },
     "metadata": {
      "needs_background": "light"
     },
     "output_type": "display_data"
    },
    {
     "data": {
      "image/png": "[encoded data removed]",
      "text/plain": [
       "<Figure size 432x288 with 1 Axes>"
      ]
     },
     "metadata": {
      "needs_background": "light"
     },
     "output_type": "display_data"
    }
   ],
   "source": [
    "#create a nested dictionary that shows the relationship between feature and label.\n",
    "#keys: 1.positive feature 2.negative feature\n",
    "#values for each key: 1. number of positive diagnosis 2.number of negative diagnosis\n",
    "#We create a bar plot after defining a dictionary for a feature\n",
    "label_feature_relationship={}\n",
    "label_feature_relationship['Female'] = {}\n",
    "label_feature_relationship['Female']['Positive'] = len(clean_Diab[(clean_Diab.Gender.str.contains('Female')) & (clean_Diab.Diagnosis.str.contains('Positive'))])\n",
    "label_feature_relationship['Female']['Negative'] = len(clean_Diab[(clean_Diab.Gender.str.contains('Female')) & (clean_Diab.Diagnosis.str.contains('Negative'))])\n",
    "\n",
    "label_feature_relationship['Male'] = {}\n",
    "label_feature_relationship['Male']['Positive'] = len(clean_Diab[(clean_Diab.Gender.str.contains('Male')) & (clean_Diab.Diagnosis.str.contains('Positive'))])\n",
    "label_feature_relationship['Male']['Negative'] = len(clean_Diab[(clean_Diab.Gender.str.contains('Male')) & (clean_Diab.Diagnosis.str.contains('Negative'))])\n",
    "\n",
    "df = pd.DataFrame.from_dict(label_feature_relationship)\n",
    "df = df.T\n",
    "df.plot.bar(rot=0, title='Gender')\n",
    "plt.ylabel('Counts')\n",
    "plt.show()\n",
    "\n",
    "for i in range(2,16):\n",
    "    title = clean_Diab.columns[i]\n",
    "    label_feature_relationship = {}\n",
    "    label_feature_relationship[\"Has %s\" %title] = {}\n",
    "    label_feature_relationship[\"Has %s\" %title]['Positive'] = len(clean_Diab[(clean_Diab[title].str.contains('Yes')) & clean_Diab.Diagnosis.str.contains('Positive')])\n",
    "    label_feature_relationship[\"Has %s\" %title]['Negative'] = len(clean_Diab[(clean_Diab[title].str.contains('Yes')) & clean_Diab.Diagnosis.str.contains('Negative')])\n",
    "    label_feature_relationship[\"No %s\" % title] = {}\n",
    "    label_feature_relationship[\"No %s\" % title]['Positive'] = len(clean_Diab[(clean_Diab[title].str.contains('No')) & clean_Diab.Diagnosis.str.contains('Positive')])\n",
    "    label_feature_relationship[\"No %s\" % title]['Negative'] = len(clean_Diab[(clean_Diab[title].str.contains('No')) & clean_Diab.Diagnosis.str.contains('Negative')])\n",
    "    df = pd.DataFrame.from_dict(label_feature_relationship)\n",
    "    df = df.T\n",
    "    df.plot.bar(rot=0, title=title)\n",
    "    plt.ylabel('Counts')\n",
    "    plt.show()\n",
    "\n",
    "label_feature_relationship = {}\n",
    "label_feature_relationship[\"Has Family History\"] = {}\n",
    "label_feature_relationship[\"Has Family History\"]['Positive'] = len(clean_Diab.loc[clean_Diab['Family History']==1 & clean_Diab.Diagnosis.str.contains('Positive')])\n",
    "label_feature_relationship[\"Has Family History\"]['Negative'] = len(clean_Diab.loc[clean_Diab['Family History']==1 & clean_Diab.Diagnosis.str.contains('Negative')])\n",
    "label_feature_relationship[\"No Family History\"] = {}\n",
    "label_feature_relationship[\"No Family History\"]['Positive'] = len(clean_Diab.loc[clean_Diab['Family History']==0 & clean_Diab.Diagnosis.str.contains('Positive')])\n",
    "label_feature_relationship[\"No Family History\"]['Negative'] = len(clean_Diab.loc[clean_Diab['Family History']==0 & clean_Diab.Diagnosis.str.contains('Negative')])\n",
    "df = pd.DataFrame.from_dict(label_feature_relationship)\n",
    "df = df.T\n",
    "df.plot.bar(rot=0, title='Family History')\n",
    "plt.ylabel('Counts')\n",
    "plt.show()"
   ]
  },
  {
   "cell_type": "markdown",
   "metadata": {},
   "source": [
    "## 3c:"
   ]
  },
  {
   "cell_type": "code",
   "execution_count": 7,
   "metadata": {},
   "outputs": [
    {
     "data": {
      "image/png": "[encoded data removed]",
      "text/plain": [
       "<Figure size 864x576 with 1 Axes>"
      ]
     },
     "metadata": {
      "needs_background": "light"
     },
     "output_type": "display_data"
    }
   ],
   "source": [
    "#1. Is there an age from which the chance of getting sick increases significantly?- A histogram is drawn showing a connection between age and count of positive diagnosis:\n",
    "ax = clean_Diab.hist(column='Age', bins= 100, figsize=(12,8), color='#86bf91', zorder=2, rwidth=0.9)\n",
    "ax = ax[0]\n",
    "for x in ax:\n",
    "    x.set_ylabel(\"Count\", labelpad=20, weight='bold', size=12)\n",
    "plt.show()"
   ]
  },
  {
   "cell_type": "code",
   "execution_count": 8,
   "metadata": {},
   "outputs": [
    {
     "data": {
      "image/png": "[encoded data removed]",
      "text/plain": [
       "<Figure size 432x288 with 1 Axes>"
      ]
     },
     "metadata": {
      "needs_background": "light"
     },
     "output_type": "display_data"
    }
   ],
   "source": [
    "#2. Compare age histogram for positive diagnosis and age histogram for negative diagnosis:\n",
    "positive_age_series = clean_Diab[clean_Diab.Diagnosis.str.contains('Positive')]['Age']\n",
    "negative_age_series = clean_Diab[clean_Diab.Diagnosis.str.contains('Negative')]['Age']\n",
    "plt.hist(positive_age_series, bins=100, label='Positive Diagnosis')\n",
    "plt.hist(negative_age_series, bins=100, label='Negative Diagnosis')\n",
    "plt.xlabel('Age')\n",
    "plt.ylabel('Count')\n",
    "plt.legend(loc='upper right')\n",
    "plt.show()"
   ]
  },
  {
   "cell_type": "code",
   "execution_count": 9,
   "metadata": {},
   "outputs": [
    {
     "data": {
      "image/png": "[encoded data removed]",
      "text/plain": [
       "<Figure size 432x288 with 1 Axes>"
      ]
     },
     "metadata": {},
     "output_type": "display_data"
    }
   ],
   "source": [
    "#3. Pie chart of positive/negative diagnosis: We want to check if the labels are balanced in the DataFrame.\n",
    "positive_count = 0\n",
    "negative_count = 0\n",
    "for idx, value in enumerate(clean_Diab['Diagnosis']):\n",
    "    if value =='Positive':\n",
    "        positive_count +=1\n",
    "    else:\n",
    "        negative_count +=1\n",
    "labels = ('Positive', 'Negative')\n",
    "sizes = [positive_count, negative_count]\n",
    "colors = ['lightcoral', 'yellowgreen']\n",
    "figureObject, axesObject = plt.subplots()\n",
    "plt.pie(sizes, labels=labels, colors=colors, autopct='%1.1f%%', shadow=True, startangle=140)\n",
    "plt.axis('equal')\n",
    "plt.title(\"Positive and negative diagnosis percentages\")\n",
    "plt.show()"
   ]
  },
  {
   "cell_type": "markdown",
   "metadata": {},
   "source": [
    "## 3d"
   ]
  },
  {
   "cell_type": "markdown",
   "metadata": {},
   "source": [
    "i)  1- It can be seen that there is no age group from which the chance of getting sick increases significantly.  \n",
    "    2- On the other hand, T1D has a tendency to erupt between the ages of 10-20, and this graph shows that the data does not contain information about enough  patients in these age ranges.\n",
    "       No significant information can be deduced from this feature.\n",
    "    3- We wanted to check how the percentage of labels is divided. We can see that the percentage of positive label is relatively high compared  to the percentage of negative label,\n",
    "       which means that we received biased data. This result may be due to the selection of a relatively small sample group.\n",
    "       \n",
    "ii) From section 3b, we didn't learn much, just that our data is biased. On the other hand, based on scetion 3a we have learned there are 3 imformative features: Increased urination, Increased Thirst, Sudden Weight\n",
    "Loss. for positive feature label, they present high number of positive diagnosed, while for a negative label they present a low number of positive diagnosed."
   ]
  },
  {
   "cell_type": "markdown",
   "metadata": {},
   "source": [
    "## Question 4"
   ]
  },
  {
   "cell_type": "code",
   "execution_count": 10,
   "metadata": {},
   "outputs": [],
   "source": [
    "#Encoding our data as one hot vectors\n",
    "X_binary = X.replace(['Yes','Female','Positive'],value = 1)\n",
    "X_binary = X_binary.replace(['No','Male','Negative'],value = 0)\n",
    "X_binary['Age'] = (X_binary['Age']-X_binary['Age'].mean())/X_binary['Age'].std()\n",
    "y_binary = y.replace(['Positive'],value = 1)\n",
    "y_binary = y_binary.replace(['Negative'],value = 0)\n",
    "\n",
    "x_onehotvector = X_binary\n",
    "y_onehotvector = np.array(y_binary).ravel()\n"
   ]
  },
  {
   "cell_type": "markdown",
   "metadata": {},
   "source": [
    "## Qusetion 5"
   ]
  },
  {
   "cell_type": "code",
   "execution_count": 11,
   "metadata": {},
   "outputs": [
    {
     "name": "stdout",
     "output_type": "stream",
     "text": [
      "Fitting 5 folds for each of 6 candidates, totalling 30 fits\n",
      "[CV] svm__C=0.001, svm__kernel=linear ................................\n",
      "[CV]  svm__C=0.001, svm__kernel=linear, roc_auc=(train=0.947, test=0.964), total=   0.1s\n",
      "[CV] svm__C=0.001, svm__kernel=linear ................................\n",
      "[CV]  svm__C=0.001, svm__kernel=linear, roc_auc=(train=0.940, test=0.948), total=   0.0s\n",
      "[CV] svm__C=0.001, svm__kernel=linear ................................\n",
      "[CV]  svm__C=0.001, svm__kernel=linear, roc_auc=(train=0.937, test=0.912), total=   0.0s\n",
      "[CV] svm__C=0.001, svm__kernel=linear ................................\n",
      "[CV]  svm__C=0.001, svm__kernel=linear, roc_auc=(train=0.945, test=0.905), total=   0.0s\n",
      "[CV] svm__C=0.001, svm__kernel=linear ................................\n"
     ]
    },
    {
     "name": "stderr",
     "output_type": "stream",
     "text": [
      "[Parallel(n_jobs=1)]: Using backend SequentialBackend with 1 concurrent workers.\n",
      "[Parallel(n_jobs=1)]: Done   1 out of   1 | elapsed:    0.0s remaining:    0.0s\n",
      "[Parallel(n_jobs=1)]: Done   2 out of   2 | elapsed:    0.0s remaining:    0.0s\n"
     ]
    },
    {
     "name": "stdout",
     "output_type": "stream",
     "text": [
      "[CV]  svm__C=0.001, svm__kernel=linear, roc_auc=(train=0.936, test=0.944), total=   0.0s\n",
      "[CV] svm__C=0.01, svm__kernel=linear .................................\n",
      "[CV]  svm__C=0.01, svm__kernel=linear, roc_auc=(train=0.958, test=0.969), total=   0.0s\n",
      "[CV] svm__C=0.01, svm__kernel=linear .................................\n",
      "[CV]  svm__C=0.01, svm__kernel=linear, roc_auc=(train=0.957, test=0.965), total=   0.0s\n",
      "[CV] svm__C=0.01, svm__kernel=linear .................................\n",
      "[CV]  svm__C=0.01, svm__kernel=linear, roc_auc=(train=0.960, test=0.949), total=   0.0s\n",
      "[CV] svm__C=0.01, svm__kernel=linear .................................\n",
      "[CV]  svm__C=0.01, svm__kernel=linear, roc_auc=(train=0.964, test=0.919), total=   0.0s\n",
      "[CV] svm__C=0.01, svm__kernel=linear .................................\n",
      "[CV]  svm__C=0.01, svm__kernel=linear, roc_auc=(train=0.951, test=0.971), total=   0.0s\n",
      "[CV] svm__C=1.0, svm__kernel=linear ..................................\n",
      "[CV]  svm__C=1.0, svm__kernel=linear, roc_auc=(train=0.975, test=0.949), total=   0.0s\n",
      "[CV] svm__C=1.0, svm__kernel=linear ..................................\n",
      "[CV]  svm__C=1.0, svm__kernel=linear, roc_auc=(train=0.979, test=0.966), total=   0.0s\n",
      "[CV] svm__C=1.0, svm__kernel=linear ..................................\n",
      "[CV]  svm__C=1.0, svm__kernel=linear, roc_auc=(train=0.976, test=0.985), total=   0.0s\n",
      "[CV] svm__C=1.0, svm__kernel=linear ..................................\n",
      "[CV]  svm__C=1.0, svm__kernel=linear, roc_auc=(train=0.984, test=0.939), total=   0.0s\n",
      "[CV] svm__C=1.0, svm__kernel=linear ..................................\n",
      "[CV]  svm__C=1.0, svm__kernel=linear, roc_auc=(train=0.974, test=0.988), total=   0.0s\n",
      "[CV] svm__C=10.0, svm__kernel=linear .................................\n",
      "[CV]  svm__C=10.0, svm__kernel=linear, roc_auc=(train=0.973, test=0.952), total=   0.1s\n",
      "[CV] svm__C=10.0, svm__kernel=linear .................................\n",
      "[CV]  svm__C=10.0, svm__kernel=linear, roc_auc=(train=0.979, test=0.965), total=   0.1s\n",
      "[CV] svm__C=10.0, svm__kernel=linear .................................\n",
      "[CV]  svm__C=10.0, svm__kernel=linear, roc_auc=(train=0.975, test=0.983), total=   0.1s\n",
      "[CV] svm__C=10.0, svm__kernel=linear .................................\n",
      "[CV]  svm__C=10.0, svm__kernel=linear, roc_auc=(train=0.984, test=0.943), total=   0.1s\n",
      "[CV] svm__C=10.0, svm__kernel=linear .................................\n",
      "[CV]  svm__C=10.0, svm__kernel=linear, roc_auc=(train=0.972, test=0.985), total=   0.0s\n",
      "[CV] svm__C=100.0, svm__kernel=linear ................................\n",
      "[CV]  svm__C=100.0, svm__kernel=linear, roc_auc=(train=0.974, test=0.953), total=   0.5s\n",
      "[CV] svm__C=100.0, svm__kernel=linear ................................\n",
      "[CV]  svm__C=100.0, svm__kernel=linear, roc_auc=(train=0.979, test=0.965), total=   0.6s\n",
      "[CV] svm__C=100.0, svm__kernel=linear ................................\n",
      "[CV]  svm__C=100.0, svm__kernel=linear, roc_auc=(train=0.975, test=0.983), total=   0.5s\n",
      "[CV] svm__C=100.0, svm__kernel=linear ................................\n",
      "[CV]  svm__C=100.0, svm__kernel=linear, roc_auc=(train=0.984, test=0.945), total=   0.3s\n",
      "[CV] svm__C=100.0, svm__kernel=linear ................................\n",
      "[CV]  svm__C=100.0, svm__kernel=linear, roc_auc=(train=0.972, test=0.983), total=   0.5s\n",
      "[CV] svm__C=1000.0, svm__kernel=linear ...............................\n",
      "[CV]  svm__C=1000.0, svm__kernel=linear, roc_auc=(train=0.974, test=0.953), total=   5.1s\n",
      "[CV] svm__C=1000.0, svm__kernel=linear ...............................\n",
      "[CV]  svm__C=1000.0, svm__kernel=linear, roc_auc=(train=0.979, test=0.965), total=   7.5s\n",
      "[CV] svm__C=1000.0, svm__kernel=linear ...............................\n",
      "[CV]  svm__C=1000.0, svm__kernel=linear, roc_auc=(train=0.975, test=0.983), total=   4.9s\n",
      "[CV] svm__C=1000.0, svm__kernel=linear ...............................\n",
      "[CV]  svm__C=1000.0, svm__kernel=linear, roc_auc=(train=0.984, test=0.945), total=   5.0s\n",
      "[CV] svm__C=1000.0, svm__kernel=linear ...............................\n",
      "[CV]  svm__C=1000.0, svm__kernel=linear, roc_auc=(train=0.972, test=0.983), total=   6.9s\n"
     ]
    },
    {
     "name": "stderr",
     "output_type": "stream",
     "text": [
      "[Parallel(n_jobs=1)]: Done  30 out of  30 | elapsed:   32.7s finished\n"
     ]
    },
    {
     "name": "stdout",
     "output_type": "stream",
     "text": [
      "Fitting 5 folds for each of 6 candidates, totalling 30 fits\n",
      "[CV] svm__C=0.001, svm__kernel=rbf ...................................\n",
      "[CV]  svm__C=0.001, svm__kernel=rbf, roc_auc=(train=0.969, test=0.981), total=   0.0s\n",
      "[CV] svm__C=0.001, svm__kernel=rbf ...................................\n",
      "[CV]  svm__C=0.001, svm__kernel=rbf, roc_auc=(train=0.965, test=0.974), total=   0.0s\n",
      "[CV] svm__C=0.001, svm__kernel=rbf ...................................\n",
      "[CV]  svm__C=0.001, svm__kernel=rbf, roc_auc=(train=0.967, test=0.941), total=   0.0s"
     ]
    },
    {
     "name": "stderr",
     "output_type": "stream",
     "text": [
      "[Parallel(n_jobs=1)]: Using backend SequentialBackend with 1 concurrent workers.\n",
      "[Parallel(n_jobs=1)]: Done   1 out of   1 | elapsed:    0.0s remaining:    0.0s\n",
      "[Parallel(n_jobs=1)]: Done   2 out of   2 | elapsed:    0.0s remaining:    0.0s\n"
     ]
    },
    {
     "name": "stdout",
     "output_type": "stream",
     "text": [
      "\n",
      "[CV] svm__C=0.001, svm__kernel=rbf ...................................\n",
      "[CV]  svm__C=0.001, svm__kernel=rbf, roc_auc=(train=0.970, test=0.919), total=   0.0s\n",
      "[CV] svm__C=0.001, svm__kernel=rbf ...................................\n",
      "[CV]  svm__C=0.001, svm__kernel=rbf, roc_auc=(train=0.959, test=0.969), total=   0.0s\n",
      "[CV] svm__C=0.01, svm__kernel=rbf ....................................\n",
      "[CV]  svm__C=0.01, svm__kernel=rbf, roc_auc=(train=0.969, test=0.981), total=   0.0s\n",
      "[CV] svm__C=0.01, svm__kernel=rbf ....................................\n",
      "[CV]  svm__C=0.01, svm__kernel=rbf, roc_auc=(train=0.965, test=0.974), total=   0.1s\n",
      "[CV] svm__C=0.01, svm__kernel=rbf ....................................\n",
      "[CV]  svm__C=0.01, svm__kernel=rbf, roc_auc=(train=0.967, test=0.941), total=   0.0s\n",
      "[CV] svm__C=0.01, svm__kernel=rbf ....................................\n",
      "[CV]  svm__C=0.01, svm__kernel=rbf, roc_auc=(train=0.970, test=0.919), total=   0.0s\n",
      "[CV] svm__C=0.01, svm__kernel=rbf ....................................\n",
      "[CV]  svm__C=0.01, svm__kernel=rbf, roc_auc=(train=0.959, test=0.968), total=   0.0s\n",
      "[CV] svm__C=1.0, svm__kernel=rbf .....................................\n",
      "[CV]  svm__C=1.0, svm__kernel=rbf, roc_auc=(train=1.000, test=0.995), total=   0.0s\n",
      "[CV] svm__C=1.0, svm__kernel=rbf .....................................\n",
      "[CV]  svm__C=1.0, svm__kernel=rbf, roc_auc=(train=0.999, test=0.991), total=   0.0s\n",
      "[CV] svm__C=1.0, svm__kernel=rbf .....................................\n",
      "[CV]  svm__C=1.0, svm__kernel=rbf, roc_auc=(train=0.999, test=0.991), total=   0.0s\n",
      "[CV] svm__C=1.0, svm__kernel=rbf .....................................\n",
      "[CV]  svm__C=1.0, svm__kernel=rbf, roc_auc=(train=1.000, test=0.966), total=   0.0s\n",
      "[CV] svm__C=1.0, svm__kernel=rbf .....................................\n",
      "[CV]  svm__C=1.0, svm__kernel=rbf, roc_auc=(train=1.000, test=1.000), total=   0.0s\n",
      "[CV] svm__C=10.0, svm__kernel=rbf ....................................\n",
      "[CV]  svm__C=10.0, svm__kernel=rbf, roc_auc=(train=1.000, test=0.978), total=   0.0s\n",
      "[CV] svm__C=10.0, svm__kernel=rbf ....................................\n",
      "[CV]  svm__C=10.0, svm__kernel=rbf, roc_auc=(train=1.000, test=0.981), total=   0.0s\n",
      "[CV] svm__C=10.0, svm__kernel=rbf ....................................\n",
      "[CV]  svm__C=10.0, svm__kernel=rbf, roc_auc=(train=1.000, test=0.995), total=   0.0s\n",
      "[CV] svm__C=10.0, svm__kernel=rbf ....................................\n",
      "[CV]  svm__C=10.0, svm__kernel=rbf, roc_auc=(train=1.000, test=0.956), total=   0.0s\n",
      "[CV] svm__C=10.0, svm__kernel=rbf ....................................\n",
      "[CV]  svm__C=10.0, svm__kernel=rbf, roc_auc=(train=1.000, test=1.000), total=   0.0s\n",
      "[CV] svm__C=100.0, svm__kernel=rbf ...................................\n",
      "[CV]  svm__C=100.0, svm__kernel=rbf, roc_auc=(train=1.000, test=0.983), total=   0.0s\n",
      "[CV] svm__C=100.0, svm__kernel=rbf ...................................\n",
      "[CV]  svm__C=100.0, svm__kernel=rbf, roc_auc=(train=1.000, test=0.989), total=   0.0s\n",
      "[CV] svm__C=100.0, svm__kernel=rbf ...................................\n",
      "[CV]  svm__C=100.0, svm__kernel=rbf, roc_auc=(train=1.000, test=0.998), total=   0.0s\n",
      "[CV] svm__C=100.0, svm__kernel=rbf ...................................\n",
      "[CV]  svm__C=100.0, svm__kernel=rbf, roc_auc=(train=1.000, test=0.958), total=   0.0s\n",
      "[CV] svm__C=100.0, svm__kernel=rbf ...................................\n",
      "[CV]  svm__C=100.0, svm__kernel=rbf, roc_auc=(train=1.000, test=1.000), total=   0.0s\n",
      "[CV] svm__C=1000.0, svm__kernel=rbf ..................................\n",
      "[CV]  svm__C=1000.0, svm__kernel=rbf, roc_auc=(train=1.000, test=0.973), total=   0.0s\n",
      "[CV] svm__C=1000.0, svm__kernel=rbf ..................................\n",
      "[CV]  svm__C=1000.0, svm__kernel=rbf, roc_auc=(train=1.000, test=0.987), total=   0.0s\n",
      "[CV] svm__C=1000.0, svm__kernel=rbf ..................................\n",
      "[CV]  svm__C=1000.0, svm__kernel=rbf, roc_auc=(train=1.000, test=0.984), total=   0.0s\n",
      "[CV] svm__C=1000.0, svm__kernel=rbf ..................................\n",
      "[CV]  svm__C=1000.0, svm__kernel=rbf, roc_auc=(train=1.000, test=0.932), total=   0.0s\n",
      "[CV] svm__C=1000.0, svm__kernel=rbf ..................................\n",
      "[CV]  svm__C=1000.0, svm__kernel=rbf, roc_auc=(train=1.000, test=0.995), total=   0.0s\n",
      "svm with  linear kernel:\n",
      "Sensitivity is 0.94\n",
      "Specificity is 0.82\n",
      "PPV is 0.89\n",
      "NPV is 0.90\n",
      "Accuracy is 0.89\n",
      "F1 is 0.92\n",
      "The Linear Loss is 0.54\n",
      "AUC is 0.96\n",
      "\n",
      " svm with rbf kernel:\n",
      " Sensitivity is 0.94\n",
      " Specificity is 0.82\n",
      " PPV is 0.89\n",
      " NPV is 0.90\n",
      " Accuracy is 0.89\n",
      " F1 is 0.92\n",
      " Loss is 0.48\n",
      " AUC is 0.99\n"
     ]
    },
    {
     "name": "stderr",
     "output_type": "stream",
     "text": [
      "[Parallel(n_jobs=1)]: Done  30 out of  30 | elapsed:    1.3s finished\n"
     ]
    }
   ],
   "source": [
    "X_train, x_test, Y_train, y_test = train_test_split(x_onehotvector, y_onehotvector, test_size = 0.20, random_state = 0, stratify = y_onehotvector)\n",
    "# K cross fold+ SVM ( linear for 'svm_kernel':['linear'], non linear for 'svm_kernel':['rbf'])\n",
    "# Linear SVM model\n",
    "n_splits = 5\n",
    "skf = StratifiedKFold(n_splits=n_splits, random_state=10, shuffle=True)\n",
    "svc = SVC(probability=True)\n",
    "C = np.array([0.001, 0.01, 1, 10, 100, 1000])\n",
    "pipe = Pipeline(steps=[('svm', svc)])\n",
    "svm_lin = GridSearchCV(estimator=pipe,\n",
    "             param_grid={'svm__kernel':['linear'], 'svm__C':C}, scoring=['roc_auc'],  cv=skf, refit='roc_auc', verbose=3, return_train_score=True)\n",
    "svm_lin.fit(X_train, Y_train)\n",
    "best_svm_lin = svm_lin.best_estimator_\n",
    "\n",
    "\n",
    "calc_TN = lambda y_true, y_pred: confusion_matrix(y_true, y_pred)[0, 0]\n",
    "calc_FP = lambda y_true, y_pred: confusion_matrix(y_true, y_pred)[0, 1]\n",
    "calc_FN = lambda y_true, y_pred: confusion_matrix(y_true, y_pred)[1, 0]\n",
    "calc_TP = lambda y_true, y_pred: confusion_matrix(y_true, y_pred)[1, 1]\n",
    "\n",
    "y_pred_test_lin = best_svm_lin.predict(x_test)\n",
    "y_pred_proba_test_lin = best_svm_lin.predict_proba(x_test)\n",
    "lin_loss = hinge_loss(y_test, y_pred_proba_test_lin[:,1])\n",
    "LSVM_score = roc_auc_score(y_test, y_pred_proba_test_lin[:,1])\n",
    "\n",
    "TN = calc_TN(y_test, y_pred_test_lin)\n",
    "FP = calc_FP(y_test, y_pred_test_lin)\n",
    "FN = calc_FN(y_test, y_pred_test_lin)\n",
    "TP = calc_TP(y_test, y_pred_test_lin)\n",
    "Se = TP/(TP+FN)\n",
    "Sp = TN/(TN+FP)\n",
    "PPV = TP/(TP+FP)\n",
    "NPV = TN/(TN+FN)\n",
    "Acc = (TP+TN)/(TP+TN+FP+FN)\n",
    "F1 = (2*Se*PPV)/(Se+PPV)\n",
    "\n",
    "#Non- linear SVM (RBF Kernel):\n",
    "pipe_rbf = Pipeline(steps=[('svm', svc)])\n",
    "svm_rbf = GridSearchCV(estimator=pipe,\n",
    "             param_grid={'svm__kernel':['rbf'], 'svm__C':C}, scoring=['roc_auc'],  cv=skf, refit='roc_auc', verbose=3, return_train_score=True)\n",
    "\n",
    "svm_rbf.fit(X_train, Y_train)\n",
    "best_svm_rbf = svm_rbf.best_estimator_\n",
    "\n",
    "y_pred_test_rbf = best_svm_rbf.predict(x_test)\n",
    "y_pred_proba_test_rbf = best_svm_rbf.predict_proba(x_test)\n",
    "rbf_loss = hinge_loss(y_test, y_pred_proba_test_rbf[:,1])\n",
    "rbf_SVM_score = roc_auc_score(y_test, y_pred_proba_test_rbf[:,1])\n",
    "\n",
    "TN_nl = calc_TN(y_test, y_pred_test_rbf)\n",
    "FP_nl = calc_FP(y_test, y_pred_test_rbf)\n",
    "FN_nl = calc_FN(y_test, y_pred_test_rbf)\n",
    "TP_nl = calc_TP(y_test, y_pred_test_rbf)\n",
    "Se_nl = TP/(TP+FN)\n",
    "Sp_nl = TN/(TN+FP)\n",
    "PPV_nl = TP/(TP+FP)\n",
    "NPV_nl = TN/(TN+FN)\n",
    "Acc_nl = (TP+TN)/(TP+TN+FP+FN)\n",
    "F1_nl = (2*Se*PPV)/(Se+PPV)\n",
    "\n",
    "print(\"svm with  linear kernel:\")\n",
    "print(f'Sensitivity is {Se:.2f}')\n",
    "print(f'Specificity is {Sp:.2f}')\n",
    "print(f'PPV is {PPV:.2f}')\n",
    "print(f'NPV is {NPV:.2f}')\n",
    "print(f'Accuracy is {Acc:.2f}')\n",
    "print(f'F1 is {F1:.2f}')\n",
    "print(f'The Linear Loss is {lin_loss:.2f}')\n",
    "print(f'AUC is {LSVM_score:.2f}')\n",
    "print(\"\\n svm with rbf kernel:\")\n",
    "print(f' Sensitivity is {Se_nl:.2f}')\n",
    "print(f' Specificity is {Sp_nl:.2f}')\n",
    "print(f' PPV is {PPV_nl:.2f}')\n",
    "print(f' NPV is {NPV_nl:.2f}')\n",
    "print(f' Accuracy is {Acc_nl:.2f}')\n",
    "print(f' F1 is {F1_nl:.2f}')\n",
    "print(f' Loss is {rbf_loss:.2f}')\n",
    "print(f' AUC is {rbf_SVM_score:.2f}')"
   ]
  },
  {
   "cell_type": "markdown",
   "metadata": {},
   "source": [
    "## 5c. What performs best on this dataset? Linear or non-linear models?\n"
   ]
  },
  {
   "cell_type": "markdown",
   "metadata": {},
   "source": [
    "In both linear and rbf SVM we got high measures of its performances/accuracy.\n",
    "However, in the non-linear model we got slightly higher values and smaller loss levels so we would prefer to classify the data with non linear SVM with rbf Kernel."
   ]
  },
  {
   "cell_type": "markdown",
   "metadata": {},
   "source": [
    "## Question 6- Feature Selection"
   ]
  },
  {
   "cell_type": "code",
   "execution_count": 12,
   "metadata": {},
   "outputs": [
    {
     "data": {
      "image/png": "[encoded data removed]",
      "text/plain": [
       "<Figure size 432x288 with 1 Axes>"
      ]
     },
     "metadata": {
      "needs_background": "light"
     },
     "output_type": "display_data"
    }
   ],
   "source": [
    "#Random Forest Network\n",
    "clf = rfc(n_estimators=10)\n",
    "clf.fit(X_train, Y_train)\n",
    "w_ = clf.feature_importances_\n",
    "\n",
    "features=['Age','Gender','Increased Urination', 'Increased Thirst','Sudden Weight Loss','Weakness','Increased Hunger','Genital Thrush','Visual Blurring','Itching','Irritability','Delayed Healing','Partial Paresis','Muscle Stiffness','Hair Loss','Obesity','Family History']\n",
    "x = np.arange(len(features))\n",
    "x=np.ndarray.tolist(x)\n",
    "w_ = np.ndarray.tolist(w_)\n",
    "plt.bar(x, w_,0.5, color='c')\n",
    "plt.xticks(x,features,rotation=90);\n",
    "plt.ylabel(\"weights\", fontsize=12)\n",
    "plt.title(\"Feature Weights- RFC\")\n",
    "plt.show()\n"
   ]
  },
  {
   "cell_type": "markdown",
   "metadata": {},
   "source": [
    "## i. What are the 2 most important features according to the random forest."
   ]
  },
  {
   "cell_type": "markdown",
   "metadata": {},
   "source": [
    "According to the attached data about type 1 diabetes the two most common symptomes are- Increased thirst\n",
    "Frequent urination. Thus, they are the two most important features."
   ]
  },
  {
   "cell_type": "markdown",
   "metadata": {},
   "source": [
    "## ii. Does this match up exactly with the feature exploration you did?"
   ]
  },
  {
   "cell_type": "markdown",
   "metadata": {},
   "source": [
    "According to the data exploration we got that the most important features are Increased Urination and Increased Thirst.\n",
    "Both of these features had the the largers weights in most of the runs of the code and therefore have the largest influence.\n",
    "This match up well with the feature exploration in most of the runs. The both symptomes are very important and influence each other.\n",
    "However,this symptomes are not the only ones that influence type 1 diabetes and taking different groupes may divert the results torwards\n",
    "different features."
   ]
  },
  {
   "cell_type": "markdown",
   "metadata": {},
   "source": [
    "## Question 7"
   ]
  },
  {
   "cell_type": "markdown",
   "metadata": {},
   "source": [
    "## 7a- PCA 2D"
   ]
  },
  {
   "cell_type": "code",
   "execution_count": 13,
   "metadata": {},
   "outputs": [
    {
     "data": {
      "image/png": "[encoded data removed]",
      "text/plain": [
       "<Figure size 576x576 with 1 Axes>"
      ]
     },
     "metadata": {
      "needs_background": "light"
     },
     "output_type": "display_data"
    }
   ],
   "source": [
    "n_components = 2\n",
    "pca = PCA(n_components = n_components, whiten= True)\n",
    "X_train_pca = pca.fit_transform(X_train)\n",
    "x_test_pca = pca.transform(x_test)\n",
    "\n",
    "def plt_2d_pca(X_pca,y):\n",
    "    fig = plt.figure(figsize=(8, 8))\n",
    "    ax = fig.add_subplot(111, aspect='equal')\n",
    "    ax.scatter(X_pca[y==0, 0], X_pca[y==0, 1], color='m')\n",
    "    ax.scatter(X_pca[y==1, 0], X_pca[y==1, 1], color='c')\n",
    "    ax.legend(('Negative','Positive'))\n",
    "    ax.plot([0], [0], \"ko\")\n",
    "    ax.arrow(0, 0, 0, 1, head_width=0.05, length_includes_head=True, head_length=0.1, fc='k', ec='k')\n",
    "    ax.arrow(0, 0, 1, 0, head_width=0.05, length_includes_head=True, head_length=0.1, fc='k', ec='k')\n",
    "    ax.set_xlabel('$U_1$')\n",
    "    ax.set_ylabel('$U_2$')\n",
    "    ax.set_title('2D PCA')\n",
    "\n",
    "plt_2d_pca(x_test_pca, y_test)"
   ]
  },
  {
   "cell_type": "markdown",
   "metadata": {},
   "source": [
    "## 7b"
   ]
  },
  {
   "cell_type": "markdown",
   "metadata": {},
   "source": [
    "Our data is not that seperable: there is no decision boundry that can help us fully seperate the different diagnosis labels."
   ]
  },
  {
   "cell_type": "markdown",
   "metadata": {},
   "source": [
    "## 7c: Models with PCA"
   ]
  },
  {
   "cell_type": "code",
   "execution_count": 14,
   "metadata": {},
   "outputs": [
    {
     "name": "stdout",
     "output_type": "stream",
     "text": [
      "Fitting 5 folds for each of 6 candidates, totalling 30 fits\n",
      "[CV] svm__C=0.001, svm__kernel=linear ................................\n",
      "[CV]  svm__C=0.001, svm__kernel=linear, roc_auc=(train=0.933, test=0.945), total=   0.0s\n",
      "[CV] svm__C=0.001, svm__kernel=linear ................................\n",
      "[CV]  svm__C=0.001, svm__kernel=linear, roc_auc=(train=0.933, test=0.942), total=   0.0s\n",
      "[CV] svm__C=0.001, svm__kernel=linear ................................\n",
      "[CV]  svm__C=0.001, svm__kernel=linear, roc_auc=(train=0.928, test=0.919), total=   0.0s\n",
      "[CV] svm__C=0.001, svm__kernel=linear ................................\n",
      "[CV]  svm__C=0.001, svm__kernel=linear, roc_auc=(train=0.935, test=0.899), total=   0.0s\n",
      "[CV] svm__C=0.001, svm__kernel=linear ................................\n",
      "[CV]  svm__C=0.001, svm__kernel=linear, roc_auc=(train=0.922, test=0.942), total=   0.0s\n",
      "[CV] svm__C=0.01, svm__kernel=linear .................................\n",
      "[CV]  svm__C=0.01, svm__kernel=linear, roc_auc=(train=0.935, test=0.949), total=   0.0s\n",
      "[CV] svm__C=0.01, svm__kernel=linear .................................\n",
      "[CV]  svm__C=0.01, svm__kernel=linear, roc_auc=(train=0.937, test=0.941), total=   0.0s\n",
      "[CV] svm__C=0.01, svm__kernel=linear .................................\n",
      "[CV]  svm__C=0.01, svm__kernel=linear, roc_auc=(train=0.931, test=0.926), total=   0.0s\n",
      "[CV] svm__C=0.01, svm__kernel=linear .................................\n",
      "[CV]  svm__C=0.01, svm__kernel=linear, roc_auc=(train=0.938, test=0.906), total=   0.0s\n",
      "[CV] svm__C=0.01, svm__kernel=linear .................................\n",
      "[CV]  svm__C=0.01, svm__kernel=linear, roc_auc=(train=0.924, test=0.944), total=   0.0s\n",
      "[CV] svm__C=1.0, svm__kernel=linear ..................................\n",
      "[CV]  svm__C=1.0, svm__kernel=linear, roc_auc=(train=0.936, test=0.950), total=   0.0s\n",
      "[CV] svm__C=1.0, svm__kernel=linear .................................."
     ]
    },
    {
     "name": "stderr",
     "output_type": "stream",
     "text": [
      "[Parallel(n_jobs=1)]: Using backend SequentialBackend with 1 concurrent workers.\n",
      "[Parallel(n_jobs=1)]: Done   1 out of   1 | elapsed:    0.0s remaining:    0.0s\n",
      "[Parallel(n_jobs=1)]: Done   2 out of   2 | elapsed:    0.0s remaining:    0.0s\n"
     ]
    },
    {
     "name": "stdout",
     "output_type": "stream",
     "text": [
      "\n",
      "[CV]  svm__C=1.0, svm__kernel=linear, roc_auc=(train=0.943, test=0.925), total=   0.0s\n",
      "[CV] svm__C=1.0, svm__kernel=linear ..................................\n",
      "[CV]  svm__C=1.0, svm__kernel=linear, roc_auc=(train=0.935, test=0.953), total=   0.0s\n",
      "[CV] svm__C=1.0, svm__kernel=linear ..................................\n",
      "[CV]  svm__C=1.0, svm__kernel=linear, roc_auc=(train=0.946, test=0.915), total=   0.0s\n",
      "[CV] svm__C=1.0, svm__kernel=linear ..................................\n",
      "[CV]  svm__C=1.0, svm__kernel=linear, roc_auc=(train=0.934, test=0.959), total=   0.0s\n",
      "[CV] svm__C=10.0, svm__kernel=linear .................................\n",
      "[CV]  svm__C=10.0, svm__kernel=linear, roc_auc=(train=0.935, test=0.950), total=   0.0s\n",
      "[CV] svm__C=10.0, svm__kernel=linear .................................\n",
      "[CV]  svm__C=10.0, svm__kernel=linear, roc_auc=(train=0.943, test=0.924), total=   0.0s\n",
      "[CV] svm__C=10.0, svm__kernel=linear .................................\n",
      "[CV]  svm__C=10.0, svm__kernel=linear, roc_auc=(train=0.935, test=0.953), total=   0.0s\n",
      "[CV] svm__C=10.0, svm__kernel=linear .................................\n",
      "[CV]  svm__C=10.0, svm__kernel=linear, roc_auc=(train=0.945, test=0.916), total=   0.0s\n",
      "[CV] svm__C=10.0, svm__kernel=linear .................................\n",
      "[CV]  svm__C=10.0, svm__kernel=linear, roc_auc=(train=0.935, test=0.959), total=   0.0s\n",
      "[CV] svm__C=100.0, svm__kernel=linear ................................\n",
      "[CV]  svm__C=100.0, svm__kernel=linear, roc_auc=(train=0.935, test=0.950), total=   0.1s\n",
      "[CV] svm__C=100.0, svm__kernel=linear ................................\n",
      "[CV]  svm__C=100.0, svm__kernel=linear, roc_auc=(train=0.942, test=0.925), total=   0.1s\n",
      "[CV] svm__C=100.0, svm__kernel=linear ................................\n",
      "[CV]  svm__C=100.0, svm__kernel=linear, roc_auc=(train=0.935, test=0.953), total=   0.1s\n",
      "[CV] svm__C=100.0, svm__kernel=linear ................................\n",
      "[CV]  svm__C=100.0, svm__kernel=linear, roc_auc=(train=0.945, test=0.916), total=   0.1s\n",
      "[CV] svm__C=100.0, svm__kernel=linear ................................\n",
      "[CV]  svm__C=100.0, svm__kernel=linear, roc_auc=(train=0.935, test=0.959), total=   0.1s\n",
      "[CV] svm__C=1000.0, svm__kernel=linear ...............................\n",
      "[CV]  svm__C=1000.0, svm__kernel=linear, roc_auc=(train=0.935, test=0.950), total=   1.0s\n",
      "[CV] svm__C=1000.0, svm__kernel=linear ...............................\n",
      "[CV]  svm__C=1000.0, svm__kernel=linear, roc_auc=(train=0.942, test=0.925), total=   0.4s\n",
      "[CV] svm__C=1000.0, svm__kernel=linear ...............................\n",
      "[CV]  svm__C=1000.0, svm__kernel=linear, roc_auc=(train=0.935, test=0.953), total=   0.6s\n",
      "[CV] svm__C=1000.0, svm__kernel=linear ...............................\n",
      "[CV]  svm__C=1000.0, svm__kernel=linear, roc_auc=(train=0.945, test=0.916), total=   0.5s\n",
      "[CV] svm__C=1000.0, svm__kernel=linear ...............................\n",
      "[CV]  svm__C=1000.0, svm__kernel=linear, roc_auc=(train=0.935, test=0.959), total=   0.7s\n",
      "Fitting 5 folds for each of 6 candidates, totalling 30 fits\n",
      "[CV] svm__C=0.001, svm__kernel=rbf ...................................\n",
      "[CV]  svm__C=0.001, svm__kernel=rbf, roc_auc=(train=0.931, test=0.959), total=   0.0s\n",
      "[CV] svm__C=0.001, svm__kernel=rbf ...................................\n",
      "[CV]  svm__C=0.001, svm__kernel=rbf, roc_auc=(train=0.934, test=0.943), total=   0.0s\n",
      "[CV] svm__C=0.001, svm__kernel=rbf ..................................."
     ]
    },
    {
     "name": "stderr",
     "output_type": "stream",
     "text": [
      "[Parallel(n_jobs=1)]: Done  30 out of  30 | elapsed:    4.0s finished\n",
      "[Parallel(n_jobs=1)]: Using backend SequentialBackend with 1 concurrent workers.\n",
      "[Parallel(n_jobs=1)]: Done   1 out of   1 | elapsed:    0.0s remaining:    0.0s\n",
      "[Parallel(n_jobs=1)]: Done   2 out of   2 | elapsed:    0.0s remaining:    0.0s\n"
     ]
    },
    {
     "name": "stdout",
     "output_type": "stream",
     "text": [
      "\n",
      "[CV]  svm__C=0.001, svm__kernel=rbf, roc_auc=(train=0.931, test=0.937), total=   0.0s\n",
      "[CV] svm__C=0.001, svm__kernel=rbf ...................................\n",
      "[CV]  svm__C=0.001, svm__kernel=rbf, roc_auc=(train=0.946, test=0.882), total=   0.0s\n",
      "[CV] svm__C=0.001, svm__kernel=rbf ...................................\n",
      "[CV]  svm__C=0.001, svm__kernel=rbf, roc_auc=(train=0.930, test=0.940), total=   0.0s\n",
      "[CV] svm__C=0.01, svm__kernel=rbf ....................................\n",
      "[CV]  svm__C=0.01, svm__kernel=rbf, roc_auc=(train=0.931, test=0.959), total=   0.0s\n",
      "[CV] svm__C=0.01, svm__kernel=rbf ....................................\n",
      "[CV]  svm__C=0.01, svm__kernel=rbf, roc_auc=(train=0.934, test=0.943), total=   0.0s\n",
      "[CV] svm__C=0.01, svm__kernel=rbf ....................................\n",
      "[CV]  svm__C=0.01, svm__kernel=rbf, roc_auc=(train=0.931, test=0.937), total=   0.0s\n",
      "[CV] svm__C=0.01, svm__kernel=rbf ....................................\n",
      "[CV]  svm__C=0.01, svm__kernel=rbf, roc_auc=(train=0.946, test=0.882), total=   0.0s\n",
      "[CV] svm__C=0.01, svm__kernel=rbf ....................................\n",
      "[CV]  svm__C=0.01, svm__kernel=rbf, roc_auc=(train=0.929, test=0.940), total=   0.0s\n",
      "[CV] svm__C=1.0, svm__kernel=rbf .....................................\n",
      "[CV]  svm__C=1.0, svm__kernel=rbf, roc_auc=(train=0.937, test=0.942), total=   0.0s\n",
      "[CV] svm__C=1.0, svm__kernel=rbf .....................................\n",
      "[CV]  svm__C=1.0, svm__kernel=rbf, roc_auc=(train=0.939, test=0.924), total=   0.0s\n",
      "[CV] svm__C=1.0, svm__kernel=rbf .....................................\n",
      "[CV]  svm__C=1.0, svm__kernel=rbf, roc_auc=(train=0.936, test=0.943), total=   0.0s\n",
      "[CV] svm__C=1.0, svm__kernel=rbf .....................................\n",
      "[CV]  svm__C=1.0, svm__kernel=rbf, roc_auc=(train=0.955, test=0.881), total=   0.0s\n",
      "[CV] svm__C=1.0, svm__kernel=rbf .....................................\n",
      "[CV]  svm__C=1.0, svm__kernel=rbf, roc_auc=(train=0.931, test=0.960), total=   0.0s\n",
      "[CV] svm__C=10.0, svm__kernel=rbf ....................................\n",
      "[CV]  svm__C=10.0, svm__kernel=rbf, roc_auc=(train=0.942, test=0.942), total=   0.0s\n",
      "[CV] svm__C=10.0, svm__kernel=rbf ....................................\n",
      "[CV]  svm__C=10.0, svm__kernel=rbf, roc_auc=(train=0.938, test=0.935), total=   0.0s\n",
      "[CV] svm__C=10.0, svm__kernel=rbf ....................................\n",
      "[CV]  svm__C=10.0, svm__kernel=rbf, roc_auc=(train=0.934, test=0.938), total=   0.0s\n",
      "[CV] svm__C=10.0, svm__kernel=rbf ....................................\n",
      "[CV]  svm__C=10.0, svm__kernel=rbf, roc_auc=(train=0.957, test=0.878), total=   0.0s\n",
      "[CV] svm__C=10.0, svm__kernel=rbf ....................................\n",
      "[CV]  svm__C=10.0, svm__kernel=rbf, roc_auc=(train=0.936, test=0.926), total=   0.0s\n",
      "[CV] svm__C=100.0, svm__kernel=rbf ...................................\n",
      "[CV]  svm__C=100.0, svm__kernel=rbf, roc_auc=(train=0.953, test=0.930), total=   0.0s\n",
      "[CV] svm__C=100.0, svm__kernel=rbf ...................................\n",
      "[CV]  svm__C=100.0, svm__kernel=rbf, roc_auc=(train=0.948, test=0.954), total=   0.1s\n",
      "[CV] svm__C=100.0, svm__kernel=rbf ...................................\n",
      "[CV]  svm__C=100.0, svm__kernel=rbf, roc_auc=(train=0.939, test=0.930), total=   0.0s\n",
      "[CV] svm__C=100.0, svm__kernel=rbf ...................................\n",
      "[CV]  svm__C=100.0, svm__kernel=rbf, roc_auc=(train=0.959, test=0.876), total=   0.0s\n",
      "[CV] svm__C=100.0, svm__kernel=rbf ...................................\n",
      "[CV]  svm__C=100.0, svm__kernel=rbf, roc_auc=(train=0.947, test=0.931), total=   0.1s\n",
      "[CV] svm__C=1000.0, svm__kernel=rbf ..................................\n",
      "[CV]  svm__C=1000.0, svm__kernel=rbf, roc_auc=(train=0.955, test=0.921), total=   0.2s\n",
      "[CV] svm__C=1000.0, svm__kernel=rbf ..................................\n",
      "[CV]  svm__C=1000.0, svm__kernel=rbf, roc_auc=(train=0.962, test=0.936), total=   0.3s\n",
      "[CV] svm__C=1000.0, svm__kernel=rbf ..................................\n",
      "[CV]  svm__C=1000.0, svm__kernel=rbf, roc_auc=(train=0.947, test=0.943), total=   0.3s\n",
      "[CV] svm__C=1000.0, svm__kernel=rbf ..................................\n",
      "[CV]  svm__C=1000.0, svm__kernel=rbf, roc_auc=(train=0.962, test=0.877), total=   0.2s\n",
      "[CV] svm__C=1000.0, svm__kernel=rbf ..................................\n",
      "[CV]  svm__C=1000.0, svm__kernel=rbf, roc_auc=(train=0.953, test=0.924), total=   0.3s\n",
      "svm with  linear kernel:\n",
      "Sensitivity is 0.81\n",
      "Specificity is 0.84\n",
      "PPV is 0.89\n",
      "NPV is 0.74\n",
      "Accuracy is 0.82\n",
      "F1 is 0.85\n",
      "The Linear Loss is 0.60\n",
      "AUC is 0.92\n",
      "\n",
      " svm with rbf kernel:\n",
      " Sensitivity is 0.81\n",
      " Specificity is 0.84\n",
      " PPV is 0.89\n",
      " NPV is 0.74\n",
      " Accuracy is 0.82\n",
      " F1 is 0.85\n",
      " Loss is 0.60\n",
      " AUC is 0.90\n"
     ]
    },
    {
     "name": "stderr",
     "output_type": "stream",
     "text": [
      "[Parallel(n_jobs=1)]: Done  30 out of  30 | elapsed:    2.1s finished\n"
     ]
    }
   ],
   "source": [
    "# Linear SVM model\n",
    "n_splits = 5\n",
    "skf = StratifiedKFold(n_splits=n_splits, random_state=10, shuffle=True)\n",
    "svc = SVC(probability=True)\n",
    "C = np.array([0.001, 0.01, 1, 10, 100, 1000])\n",
    "pipe = Pipeline(steps=[('svm', svc)])\n",
    "svm_lin = GridSearchCV(estimator=pipe,\n",
    "             param_grid={'svm__kernel':['linear'], 'svm__C':C}, scoring=['roc_auc'],  cv=skf, refit='roc_auc', verbose=3, return_train_score=True)\n",
    "svm_lin.fit(X_train_pca, Y_train)\n",
    "best_svm_lin = svm_lin.best_estimator_\n",
    "\n",
    "calc_TN = lambda y_true, y_pred: confusion_matrix(y_true, y_pred)[0, 0]\n",
    "calc_FP = lambda y_true, y_pred: confusion_matrix(y_true, y_pred)[0, 1]\n",
    "calc_FN = lambda y_true, y_pred: confusion_matrix(y_true, y_pred)[1, 0]\n",
    "calc_TP = lambda y_true, y_pred: confusion_matrix(y_true, y_pred)[1, 1]\n",
    "\n",
    "y_pred_test_lin = best_svm_lin.predict(x_test_pca)\n",
    "y_pred_proba_test_lin = best_svm_lin.predict_proba(x_test_pca)\n",
    "lin_loss = hinge_loss(y_test, y_pred_proba_test_lin[:,1])\n",
    "LSVM_score = roc_auc_score(y_test, y_pred_proba_test_lin[:,1])\n",
    "\n",
    "TN = calc_TN(y_test, y_pred_test_lin)\n",
    "FP = calc_FP(y_test, y_pred_test_lin)\n",
    "FN = calc_FN(y_test, y_pred_test_lin)\n",
    "TP = calc_TP(y_test, y_pred_test_lin)\n",
    "Se = TP/(TP+FN)\n",
    "Sp = TN/(TN+FP)\n",
    "PPV = TP/(TP+FP)\n",
    "NPV = TN/(TN+FN)\n",
    "Acc = (TP+TN)/(TP+TN+FP+FN)\n",
    "F1 = (2*Se*PPV)/(Se+PPV)\n",
    "\n",
    "#Non- linear SVM (RBF Kernel):\n",
    "pipe_rbf = Pipeline(steps=[('svm', svc)])\n",
    "svm_rbf = GridSearchCV(estimator=pipe,\n",
    "             param_grid={'svm__kernel':['rbf'], 'svm__C':C}, scoring=['roc_auc'],  cv=skf, refit='roc_auc', verbose=3, return_train_score=True)\n",
    "\n",
    "svm_rbf.fit(X_train_pca, Y_train)\n",
    "best_svm_rbf = svm_rbf.best_estimator_\n",
    "\n",
    "y_pred_test_rbf = best_svm_rbf.predict(x_test_pca)\n",
    "y_pred_proba_test_rbf = best_svm_rbf.predict_proba(x_test_pca)\n",
    "rbf_loss = hinge_loss(y_test, y_pred_proba_test_rbf[:,1])\n",
    "rbf_SVM_score = roc_auc_score(y_test, y_pred_proba_test_rbf[:,1])\n",
    "\n",
    "TN_nl = calc_TN(y_test, y_pred_test_rbf)\n",
    "FP_nl = calc_FP(y_test, y_pred_test_rbf)\n",
    "FN_nl = calc_FN(y_test, y_pred_test_rbf)\n",
    "TP_nl = calc_TP(y_test, y_pred_test_rbf)\n",
    "Se_nl = TP/(TP+FN)\n",
    "Sp_nl = TN/(TN+FP)\n",
    "PPV_nl = TP/(TP+FP)\n",
    "NPV_nl = TN/(TN+FN)\n",
    "Acc_nl = (TP+TN)/(TP+TN+FP+FN)\n",
    "F1_nl = (2*Se*PPV)/(Se+PPV)\n",
    "\n",
    "print(\"svm with  linear kernel:\")\n",
    "print(f'Sensitivity is {Se:.2f}')\n",
    "print(f'Specificity is {Sp:.2f}')\n",
    "print(f'PPV is {PPV:.2f}')\n",
    "print(f'NPV is {NPV:.2f}')\n",
    "print(f'Accuracy is {Acc:.2f}')\n",
    "print(f'F1 is {F1:.2f}')\n",
    "print(f'The Linear Loss is {lin_loss:.2f}')\n",
    "print(f'AUC is {LSVM_score:.2f}')\n",
    "print(\"\\n svm with rbf kernel:\")\n",
    "print(f' Sensitivity is {Se_nl:.2f}')\n",
    "print(f' Specificity is {Sp_nl:.2f}')\n",
    "print(f' PPV is {PPV_nl:.2f}')\n",
    "print(f' NPV is {NPV_nl:.2f}')\n",
    "print(f' Accuracy is {Acc_nl:.2f}')\n",
    "print(f' F1 is {F1_nl:.2f}')\n",
    "print(f' Loss is {rbf_loss:.2f}')\n",
    "print(f' AUC is {rbf_SVM_score:.2f}')"
   ]
  },
  {
   "cell_type": "markdown",
   "metadata": {},
   "source": [
    "## 7d: Train the same models on the best two features from section 6: Increased Urination, Increased Thirst"
   ]
  },
  {
   "cell_type": "code",
   "execution_count": 15,
   "metadata": {},
   "outputs": [
    {
     "name": "stdout",
     "output_type": "stream",
     "text": [
      "Fitting 5 folds for each of 4 candidates, totalling 20 fits\n",
      "[CV] svm__C=0.1, svm__kernel=linear ..................................\n",
      "[CV]  svm__C=0.1, svm__kernel=linear, roc_auc=(train=0.901, test=0.921), total=   0.0s\n",
      "[CV] svm__C=0.1, svm__kernel=linear ..................................\n",
      "[CV]  svm__C=0.1, svm__kernel=linear, roc_auc=(train=0.910, test=0.883), total=   0.0s\n",
      "[CV] svm__C=0.1, svm__kernel=linear ..................................\n",
      "[CV]  svm__C=0.1, svm__kernel=linear, roc_auc=(train=0.902, test=0.920), total=   0.0s\n",
      "[CV] svm__C=0.1, svm__kernel=linear ..................................\n",
      "[CV]  svm__C=0.1, svm__kernel=linear, roc_auc=(train=0.910, test=0.884), total=   0.0s\n",
      "[CV] svm__C=0.1, svm__kernel=linear ..................................\n",
      "[CV]  svm__C=0.1, svm__kernel=linear, roc_auc=(train=0.901, test=0.920), total=   0.0s\n",
      "[CV] svm__C=10.0, svm__kernel=linear .................................\n"
     ]
    },
    {
     "name": "stderr",
     "output_type": "stream",
     "text": [
      "[Parallel(n_jobs=1)]: Using backend SequentialBackend with 1 concurrent workers.\n",
      "[Parallel(n_jobs=1)]: Done   1 out of   1 | elapsed:    0.0s remaining:    0.0s\n",
      "[Parallel(n_jobs=1)]: Done   2 out of   2 | elapsed:    0.0s remaining:    0.0s\n"
     ]
    },
    {
     "name": "stdout",
     "output_type": "stream",
     "text": [
      "[CV]  svm__C=10.0, svm__kernel=linear, roc_auc=(train=0.901, test=0.917), total=   0.0s\n",
      "[CV] svm__C=10.0, svm__kernel=linear .................................\n",
      "[CV]  svm__C=10.0, svm__kernel=linear, roc_auc=(train=0.909, test=0.886), total=   0.0s\n",
      "[CV] svm__C=10.0, svm__kernel=linear .................................\n",
      "[CV]  svm__C=10.0, svm__kernel=linear, roc_auc=(train=0.900, test=0.920), total=   0.0s\n",
      "[CV] svm__C=10.0, svm__kernel=linear .................................\n",
      "[CV]  svm__C=10.0, svm__kernel=linear, roc_auc=(train=0.911, test=0.875), total=   0.0s\n",
      "[CV] svm__C=10.0, svm__kernel=linear .................................\n",
      "[CV]  svm__C=10.0, svm__kernel=linear, roc_auc=(train=0.899, test=0.924), total=   0.0s\n",
      "[CV] svm__C=100.0, svm__kernel=linear ................................\n",
      "[CV]  svm__C=100.0, svm__kernel=linear, roc_auc=(train=0.901, test=0.917), total=   0.0s\n",
      "[CV] svm__C=100.0, svm__kernel=linear ................................\n",
      "[CV]  svm__C=100.0, svm__kernel=linear, roc_auc=(train=0.909, test=0.886), total=   0.0s\n",
      "[CV] svm__C=100.0, svm__kernel=linear ................................\n",
      "[CV]  svm__C=100.0, svm__kernel=linear, roc_auc=(train=0.900, test=0.920), total=   0.0s\n",
      "[CV] svm__C=100.0, svm__kernel=linear ................................\n",
      "[CV]  svm__C=100.0, svm__kernel=linear, roc_auc=(train=0.911, test=0.875), total=   0.0s\n",
      "[CV] svm__C=100.0, svm__kernel=linear ................................\n",
      "[CV]  svm__C=100.0, svm__kernel=linear, roc_auc=(train=0.899, test=0.924), total=   0.0s\n",
      "[CV] svm__C=1000.0, svm__kernel=linear ...............................\n",
      "[CV]  svm__C=1000.0, svm__kernel=linear, roc_auc=(train=0.901, test=0.917), total=   0.0s\n",
      "[CV] svm__C=1000.0, svm__kernel=linear ...............................\n",
      "[CV]  svm__C=1000.0, svm__kernel=linear, roc_auc=(train=0.909, test=0.886), total=   0.0s\n",
      "[CV] svm__C=1000.0, svm__kernel=linear ...............................\n",
      "[CV]  svm__C=1000.0, svm__kernel=linear, roc_auc=(train=0.900, test=0.920), total=   0.0s\n",
      "[CV] svm__C=1000.0, svm__kernel=linear ...............................\n",
      "[CV]  svm__C=1000.0, svm__kernel=linear, roc_auc=(train=0.911, test=0.875), total=   0.0s\n",
      "[CV] svm__C=1000.0, svm__kernel=linear ...............................\n",
      "[CV]  svm__C=1000.0, svm__kernel=linear, roc_auc=(train=0.899, test=0.924), total=   0.0s\n",
      "Fitting 5 folds for each of 4 candidates, totalling 20 fits\n",
      "[CV] svm__C=0.1, svm__kernel=rbf .....................................\n",
      "[CV]  svm__C=0.1, svm__kernel=rbf, roc_auc=(train=0.820, test=0.866), total=   0.0s\n",
      "[CV] svm__C=0.1, svm__kernel=rbf .....................................\n",
      "[CV]  svm__C=0.1, svm__kernel=rbf, roc_auc=(train=0.842, test=0.787), total=   0.0s\n",
      "[CV] svm__C=0.1, svm__kernel=rbf .....................................\n",
      "[CV]  svm__C=0.1, svm__kernel=rbf, roc_auc=(train=0.841, test=0.789), total=   0.1s"
     ]
    },
    {
     "name": "stderr",
     "output_type": "stream",
     "text": [
      "[Parallel(n_jobs=1)]: Done  20 out of  20 | elapsed:    0.3s finished\n",
      "[Parallel(n_jobs=1)]: Using backend SequentialBackend with 1 concurrent workers.\n",
      "[Parallel(n_jobs=1)]: Done   1 out of   1 | elapsed:    0.0s remaining:    0.0s\n",
      "[Parallel(n_jobs=1)]: Done   2 out of   2 | elapsed:    0.0s remaining:    0.0s\n"
     ]
    },
    {
     "name": "stdout",
     "output_type": "stream",
     "text": [
      "\n",
      "[CV] svm__C=0.1, svm__kernel=rbf .....................................\n",
      "[CV]  svm__C=0.1, svm__kernel=rbf, roc_auc=(train=0.837, test=0.801), total=   0.0s\n",
      "[CV] svm__C=0.1, svm__kernel=rbf .....................................\n",
      "[CV]  svm__C=0.1, svm__kernel=rbf, roc_auc=(train=0.853, test=0.928), total=   0.0s\n",
      "[CV] svm__C=10.0, svm__kernel=rbf ....................................\n",
      "[CV]  svm__C=10.0, svm__kernel=rbf, roc_auc=(train=0.856, test=0.905), total=   0.0s\n",
      "[CV] svm__C=10.0, svm__kernel=rbf ....................................\n",
      "[CV]  svm__C=10.0, svm__kernel=rbf, roc_auc=(train=0.910, test=0.883), total=   0.0s\n",
      "[CV] svm__C=10.0, svm__kernel=rbf ....................................\n",
      "[CV]  svm__C=10.0, svm__kernel=rbf, roc_auc=(train=0.864, test=0.883), total=   0.0s\n",
      "[CV] svm__C=10.0, svm__kernel=rbf ....................................\n",
      "[CV]  svm__C=10.0, svm__kernel=rbf, roc_auc=(train=0.886, test=0.801), total=   0.0s\n",
      "[CV] svm__C=10.0, svm__kernel=rbf ....................................\n",
      "[CV]  svm__C=10.0, svm__kernel=rbf, roc_auc=(train=0.901, test=0.920), total=   0.0s\n",
      "[CV] svm__C=100.0, svm__kernel=rbf ...................................\n",
      "[CV]  svm__C=100.0, svm__kernel=rbf, roc_auc=(train=0.865, test=0.882), total=   0.0s\n",
      "[CV] svm__C=100.0, svm__kernel=rbf ...................................\n",
      "[CV]  svm__C=100.0, svm__kernel=rbf, roc_auc=(train=0.910, test=0.883), total=   0.0s\n",
      "[CV] svm__C=100.0, svm__kernel=rbf ...................................\n",
      "[CV]  svm__C=100.0, svm__kernel=rbf, roc_auc=(train=0.876, test=0.826), total=   0.0s\n",
      "[CV] svm__C=100.0, svm__kernel=rbf ...................................\n",
      "[CV]  svm__C=100.0, svm__kernel=rbf, roc_auc=(train=0.910, test=0.884), total=   0.0s\n",
      "[CV] svm__C=100.0, svm__kernel=rbf ...................................\n",
      "[CV]  svm__C=100.0, svm__kernel=rbf, roc_auc=(train=0.901, test=0.920), total=   0.0s\n",
      "[CV] svm__C=1000.0, svm__kernel=rbf ..................................\n",
      "[CV]  svm__C=1000.0, svm__kernel=rbf, roc_auc=(train=0.865, test=0.882), total=   0.0s\n",
      "[CV] svm__C=1000.0, svm__kernel=rbf ..................................\n",
      "[CV]  svm__C=1000.0, svm__kernel=rbf, roc_auc=(train=0.907, test=0.888), total=   0.0s\n",
      "[CV] svm__C=1000.0, svm__kernel=rbf ..................................\n",
      "[CV]  svm__C=1000.0, svm__kernel=rbf, roc_auc=(train=0.864, test=0.883), total=   0.0s\n",
      "[CV] svm__C=1000.0, svm__kernel=rbf ..................................\n",
      "[CV]  svm__C=1000.0, svm__kernel=rbf, roc_auc=(train=0.886, test=0.801), total=   0.0s\n",
      "[CV] svm__C=1000.0, svm__kernel=rbf ..................................\n",
      "[CV]  svm__C=1000.0, svm__kernel=rbf, roc_auc=(train=0.901, test=0.920), total=   0.0s\n",
      "svm with  linear kernel:\n",
      "Sensitivity is 0.87\n",
      "Specificity is 0.84\n",
      "PPV is 0.90\n",
      "NPV is 0.80\n",
      "Accuracy is 0.86\n",
      "F1 is 0.88\n",
      "The Linear Loss is 0.61\n",
      "AUC is 0.90\n",
      "\n",
      " svm with rbf kernel:\n",
      " Sensitivity is 0.87\n",
      " Specificity is 0.84\n",
      " PPV is 0.90\n",
      " NPV is 0.80\n",
      " Accuracy is 0.86\n",
      " F1 is 0.88\n",
      " Loss is 0.62\n",
      " AUC is 0.90\n"
     ]
    },
    {
     "name": "stderr",
     "output_type": "stream",
     "text": [
      "[Parallel(n_jobs=1)]: Done  20 out of  20 | elapsed:    0.6s finished\n"
     ]
    }
   ],
   "source": [
    "# K cross fold+ SVM ( linear for 'svm_kernel':['linear'], non linear for 'svm_kernel':['rbf'])\n",
    "# Linear SVM model\n",
    "X_train_2feat = X_train[['Increased Urination','Increased Thirst']]\n",
    "x_test_2feat = x_test[['Increased Urination','Increased Thirst']]\n",
    "n_splits = 5\n",
    "skf = StratifiedKFold(n_splits=n_splits, random_state=10, shuffle=True)\n",
    "svc = SVC(probability=True)\n",
    "C = np.array([0.1, 10, 100, 1000])\n",
    "pipe = Pipeline(steps=[('svm', svc)])\n",
    "svm_lin = GridSearchCV(estimator=pipe,\n",
    "             param_grid={'svm__kernel':['linear'], 'svm__C':C}, scoring=['roc_auc'],  cv=skf, refit='roc_auc', verbose=3, return_train_score=True)\n",
    "svm_lin.fit(X_train_2feat, Y_train)\n",
    "best_svm_lin = svm_lin.best_estimator_\n",
    "\n",
    "calc_TN = lambda y_true, y_pred: confusion_matrix(y_true, y_pred)[0, 0]\n",
    "calc_FP = lambda y_true, y_pred: confusion_matrix(y_true, y_pred)[0, 1]\n",
    "calc_FN = lambda y_true, y_pred: confusion_matrix(y_true, y_pred)[1, 0]\n",
    "calc_TP = lambda y_true, y_pred: confusion_matrix(y_true, y_pred)[1, 1]\n",
    "\n",
    "y_pred_test_lin = best_svm_lin.predict(x_test_2feat)\n",
    "y_pred_proba_test_lin = best_svm_lin.predict_proba(x_test_2feat)\n",
    "lin_loss = hinge_loss(y_test, y_pred_proba_test_lin[:,1])\n",
    "LSVM_score = roc_auc_score(y_test, y_pred_proba_test_lin[:,1])\n",
    "\n",
    "TN = calc_TN(y_test, y_pred_test_lin)\n",
    "FP = calc_FP(y_test, y_pred_test_lin)\n",
    "FN = calc_FN(y_test, y_pred_test_lin)\n",
    "TP = calc_TP(y_test, y_pred_test_lin)\n",
    "Se = TP/(TP+FN)\n",
    "Sp = TN/(TN+FP)\n",
    "PPV = TP/(TP+FP)\n",
    "NPV = TN/(TN+FN)\n",
    "Acc = (TP+TN)/(TP+TN+FP+FN)\n",
    "F1 = (2*Se*PPV)/(Se+PPV)\n",
    "\n",
    "#Non- linear SVM (RBF Kernel):\n",
    "pipe_rbf = Pipeline(steps=[('svm', svc)])\n",
    "svm_rbf = GridSearchCV(estimator=pipe,\n",
    "             param_grid={'svm__kernel':['rbf'], 'svm__C':C}, scoring=['roc_auc'],  cv=skf, refit='roc_auc', verbose=3, return_train_score=True)\n",
    "\n",
    "svm_rbf.fit(X_train_2feat, Y_train)\n",
    "best_svm_rbf = svm_rbf.best_estimator_\n",
    "\n",
    "y_pred_test_rbf = best_svm_rbf.predict(x_test_2feat)\n",
    "y_pred_proba_test_rbf = best_svm_rbf.predict_proba(x_test_2feat)\n",
    "rbf_loss = hinge_loss(y_test, y_pred_proba_test_rbf[:,1])\n",
    "rbf_SVM_score = roc_auc_score(y_test, y_pred_proba_test_rbf[:,1])\n",
    "\n",
    "TN_nl = calc_TN(y_test, y_pred_test_rbf)\n",
    "FP_nl = calc_FP(y_test, y_pred_test_rbf)\n",
    "FN_nl = calc_FN(y_test, y_pred_test_rbf)\n",
    "TP_nl = calc_TP(y_test, y_pred_test_rbf)\n",
    "Se_nl = TP/(TP+FN)\n",
    "Sp_nl = TN/(TN+FP)\n",
    "PPV_nl = TP/(TP+FP)\n",
    "NPV_nl = TN/(TN+FN)\n",
    "Acc_nl = (TP+TN)/(TP+TN+FP+FN)\n",
    "F1_nl = (2*Se*PPV)/(Se+PPV)\n",
    "\n",
    "print(\"svm with  linear kernel:\")\n",
    "print(f'Sensitivity is {Se:.2f}')\n",
    "print(f'Specificity is {Sp:.2f}')\n",
    "print(f'PPV is {PPV:.2f}')\n",
    "print(f'NPV is {NPV:.2f}')\n",
    "print(f'Accuracy is {Acc:.2f}')\n",
    "print(f'F1 is {F1:.2f}')\n",
    "print(f'The Linear Loss is {lin_loss:.2f}')\n",
    "print(f'AUC is {LSVM_score:.2f}')\n",
    "print(\"\\n svm with rbf kernel:\")\n",
    "print(f' Sensitivity is {Se_nl:.2f}')\n",
    "print(f' Specificity is {Sp_nl:.2f}')\n",
    "print(f' PPV is {PPV_nl:.2f}')\n",
    "print(f' NPV is {NPV_nl:.2f}')\n",
    "print(f' Accuracy is {Acc_nl:.2f}')\n",
    "print(f' F1 is {F1_nl:.2f}')\n",
    "print(f' Loss is {rbf_loss:.2f}')\n",
    "print(f' AUC is {rbf_SVM_score:.2f}')"
   ]
  },
  {
   "cell_type": "markdown",
   "metadata": {},
   "source": [
    "## 7e. What performs better? 2 features or the reduced dimensionality."
   ]
  },
  {
   "cell_type": "markdown",
   "metadata": {},
   "source": [
    "The more accurate model is for the 2 features, as seen for most of the statistics calculated. \n",
    "This result makes a lot of sense: according to the theory learned in the tutorial, preprocessing using PCA reduces dimensions, therefore some data is lost so that less accurate results are obtained. \n",
    "In addition, a PCA model on data that is mostly binary is not particularly useful. Centering has no meaning as the process requires; Traditional PCA puts the origin (0,0) into data mean (center). For mostly, binary data, mean is not a logical data value."
   ]
  }
 ],
 "metadata": {
  "kernelspec": {
   "display_name": "Python 3",
   "language": "python",
   "name": "python3"
  },
  "language_info": {
   "codemirror_mode": {
    "name": "ipython",
    "version": 3
   },
   "file_extension": ".py",
   "mimetype": "text/x-python",
   "name": "python",
   "nbconvert_exporter": "python",
   "pygments_lexer": "ipython3",
   "version": "3.7.9"
  }
 },
 "nbformat": 4,
 "nbformat_minor": 4
}
